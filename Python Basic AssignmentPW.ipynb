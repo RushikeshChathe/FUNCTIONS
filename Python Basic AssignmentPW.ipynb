{
  "nbformat": 4,
  "nbformat_minor": 0,
  "metadata": {
    "colab": {
      "provenance": []
    },
    "kernelspec": {
      "name": "python3",
      "display_name": "Python 3"
    },
    "language_info": {
      "name": "python"
    }
  },
  "cells": [
    {
      "cell_type": "markdown",
      "source": [
        "# Python Basics - Assignment\n"
      ],
      "metadata": {
        "id": "8cFC7-Sku75u"
      }
    },
    {
      "cell_type": "markdown",
      "source": [
        "## **Theory Question Answer**\n"
      ],
      "metadata": {
        "id": "OgDHbGToufUB"
      }
    },
    {
      "cell_type": "markdown",
      "source": [
        "### Question 1: What is Python, and why is it popular?\n",
        "\n",
        "Python is a high-level, interpreted programming language known for its simplicity and readability. It's popular because:\n",
        "- Easy to learn with clear, readable syntax\n",
        "- Versatile (web development, data science, AI, automation)\n",
        "- Extensive standard library and third-party packages\n",
        "- Strong community support\n",
        "- Cross-platform compatibility\n",
        "- Free and open-source\n"
      ],
      "metadata": {
        "id": "ZaohfZjsxhXE"
      }
    },
    {
      "cell_type": "markdown",
      "source": [
        "### Question 2: What is an interpreter in Python?\n",
        "\n",
        "An interpreter in Python is the program that reads and executes Python code directly, line by line,\n",
        "without requiring compilation to machine code beforehand. This makes Python development faster for\n",
        "testing and debugging, as changes can be immediately executed. The Python interpreter translates\n",
        "Python code into bytecode, which is then executed by the Python Virtual Machine (PVM).\n"
      ],
      "metadata": {
        "id": "ivjaypbrzDQt"
      }
    },
    {
      "cell_type": "markdown",
      "source": [
        "### Question 3: What are pre-defined keywords in Python?\n",
        "\n",
        "Keywords in Python are reserved words that have special meanings and purposes in the language.\n",
        "They cannot be used as variable names. Some examples include:\n",
        "- if, else, elif\n",
        "- for, while, break, continue\n",
        "- def, return, class\n",
        "- import, from, as\n",
        "- True, False, None\n",
        "- and, or, not\n",
        "- try, except, finally\n",
        "- in, is\n"
      ],
      "metadata": {
        "id": "ZHG8XXf6zP0y"
      }
    },
    {
      "cell_type": "markdown",
      "source": [
        "### Question 4: Can keywords be used as variable names?\n",
        "\n",
        "No, keywords cannot be used as variable names in Python. Since keywords have predefined meanings\n",
        "in the language, using them as variable names would create ambiguity and syntax errors. For example,\n",
        "you cannot create a variable named \"if\" or \"while\" as they are reserved for Python's syntax structure.\n"
      ],
      "metadata": {
        "id": "zCcildo5zYKl"
      }
    },
    {
      "cell_type": "markdown",
      "source": [
        "### Question 5: What is mutability in Python?\n",
        "\n",
        "Mutability refers to whether an object can be changed after it's created:\n",
        "- Mutable objects can be modified after creation (lists, dictionaries, sets)\n",
        "- Immutable objects cannot be changed after creation (tuples, strings, numbers)\n",
        "\n"
      ],
      "metadata": {
        "id": "tDcmBsyezeaI"
      }
    },
    {
      "cell_type": "markdown",
      "source": [
        "### Question 6: Why are lists mutable, but tuples are immutable?\n",
        "\n",
        "Lists are mutable to provide flexibility when you need to modify collections of data.\n",
        "Tuples are immutable by design for several reasons:\n",
        "- To ensure data integrity when you don't want values to change\n",
        "- To be used as dictionary keys (only immutable objects can be keys)\n",
        "- For faster access and execution\n",
        "- To represent fixed collections like coordinates (x,y) that conceptually shouldn't change\n",
        "\n",
        "This design choice gives developers options based on their specific needs: flexible modification\n",
        "with lists or data protection with tuples.\n"
      ],
      "metadata": {
        "id": "MrviU-9ZziwZ"
      }
    },
    {
      "cell_type": "markdown",
      "source": [
        "### Question 7: What is the difference between \"==\" and \"is\" operators in Python?\n",
        "\n",
        "The difference is :\n",
        "- \"==\" compares the value or equality of two objects\n",
        "- \"is\" compares the identity of objects (if they are the same object in memory)\n"
      ],
      "metadata": {
        "id": "bACK4lV4zvAi"
      }
    },
    {
      "cell_type": "markdown",
      "source": [
        "### Question 8: What are logical operators in Python?\n",
        "\n",
        "Logical operators in Python are used to combine conditional statements:\n",
        "- and: Returns True if both statements are true\n",
        "- or: Returns True if at least one statement is true\n",
        "- not: Returns the opposite of the statement's truth value\n"
      ],
      "metadata": {
        "id": "Cp4ANKHwz_5q"
      }
    },
    {
      "cell_type": "markdown",
      "source": [
        "### Question 9: What is type casting in Python?\n",
        "\n",
        "Type casting is the process of converting a value from one data type to another.\n",
        "Python provides built-in functions for type conversion:\n",
        "- int(): Converts to integer\n",
        "- float(): Converts to floating-point number\n",
        "- str(): Converts to string\n",
        "- list(), tuple(), set(): Convert to respective collection types\n"
      ],
      "metadata": {
        "id": "JVccMhiR0ykj"
      }
    },
    {
      "cell_type": "markdown",
      "source": [
        "### Question 10: What is the difference between implicit and explicit type casting?\n",
        "\n",
        "\n",
        "Answer:\n",
        "The difference between impliit and explicit type casting are:\n",
        "\n",
        "1. Implicit type casting (automatic):\n",
        "   - Python automatically converts one data type to another when needed\n",
        "   - Usually occurs during expression evaluation\n",
        "   \n",
        "2. Explicit type casting (manual):\n",
        "   - The programmer explicitly converts using type conversion functions\n"
      ],
      "metadata": {
        "id": "9Rp0COgM00-g"
      }
    },
    {
      "cell_type": "markdown",
      "source": [
        "### Question 11: What is the purpose of conditional statements in Python?\n",
        "\n",
        "Conditional statements allow programs to make decisions based on certain conditions.\n",
        "They execute different code blocks depending on whether specified conditions are true or false.\n",
        "Purposes include:\n",
        "- Control program flow based on user input\n",
        "- Handle different scenarios in data processing\n",
        "- Implement business logic and rules\n",
        "- Prevent errors by checking conditions before operations\n",
        "- Create branches in algorithms\n",
        "\n",
        "The main conditional structures in Python are if, elif, and else.\n"
      ],
      "metadata": {
        "id": "LKEzbYAj01J-"
      }
    },
    {
      "cell_type": "markdown",
      "source": [
        "### Question 12: How does the elif statement work?\n",
        "\n",
        "The elif (short for \"else if\") statement in Python works as follows:\n",
        "- It's used after an initial if statement\n",
        "- It provides an additional condition to check if the previous condition(s) were False\n",
        "- Multiple elif statements can be chained to check multiple conditions in sequence\n",
        "- If the elif condition is True, its code block executes and subsequent elif/else blocks are skipped\n",
        "- If all if and elif conditions are False, the else block executes (if present)\n"
      ],
      "metadata": {
        "id": "NBtxvwRE01V3"
      }
    },
    {
      "cell_type": "markdown",
      "source": [
        "### Question 13: What is the difference between for and while loops?\n",
        "The key differences are:\n",
        "\n",
        "For Loop:\n",
        "- Used for iterating over a sequence (list, tuple, string, etc.)\n",
        "- Number of iterations is predetermined by the sequence length\n",
        "- Better when you know the number of iterations in advance\n",
        "- Cleaner syntax for sequence iteration\n",
        "\n",
        "While Loop:\n",
        "- Executes as long as a condition remains True\n",
        "- Number of iterations depends on when the condition becomes False\n",
        "- Better when you don't know how many iterations you'll need\n",
        "- More suitable for checking conditions that change during execution\n"
      ],
      "metadata": {
        "id": "QJJiOVcz01gU"
      }
    },
    {
      "cell_type": "markdown",
      "source": [
        "### Question 14: Describe a scenario where a while loop is more suitable than a for loop\n",
        "\n",
        "A while loop is more suitable in situations where the number of iterations is not known in advance and depends on a dynamic condition that is evaluated during each iteration. In contrast, a for loop is typically used when you know how many times you want to iterate over a sequence or range.\n",
        "\n",
        "Example Scenario:\n",
        "Imagine a situation where you are writing a program to keep prompting a user for a password until they enter the correct one. You don’t know how many attempts the user will need, but you need to continue asking until they provide the correct input. Here, a while loop is ideal because the condition (whether the password is correct) will change with each attempt, and the number of iterations is unknown."
      ],
      "metadata": {
        "id": "Kg9N8GFC028z"
      }
    },
    {
      "cell_type": "code",
      "source": [
        "# For example\n",
        "\n",
        "correct_password = \"password123\"\n",
        "user_input = \" \"\n",
        "\n",
        "# The loop continues until the user enters the correct password\n",
        "while user_input != correct_password:\n",
        "    user_input = input(\"Enter the correct password: \")\n",
        "\n",
        "print(\"Access granted.\")"
      ],
      "metadata": {
        "colab": {
          "base_uri": "https://localhost:8080/"
        },
        "id": "MnGNMGAa3ShW",
        "outputId": "4ad2563c-7bbd-4064-aaca-3aab2842bf5d"
      },
      "execution_count": 1,
      "outputs": [
        {
          "output_type": "stream",
          "name": "stdout",
          "text": [
            "Enter the correct password: password123\n",
            "Access granted.\n"
          ]
        }
      ]
    },
    {
      "cell_type": "markdown",
      "source": [
        "In this example, the while loop is appropriate because the number of iterations is determined by the user’s input, and the loop will continue until the correct password is entered. The loop will not run a fixed number of times, making the while loop a better fit."
      ],
      "metadata": {
        "id": "1yFraRwO03HB"
      }
    },
    {
      "cell_type": "markdown",
      "source": [
        "# **Practicle Question Answer**"
      ],
      "metadata": {
        "id": "JwW7HF_V4wbS"
      }
    },
    {
      "cell_type": "markdown",
      "source": [
        "###Question 1.  Write a Python program to print \"Hello, World!\n"
      ],
      "metadata": {
        "id": "5pfZRnrC46B9"
      }
    },
    {
      "cell_type": "code",
      "source": [
        "print(\"Hello, World!\")"
      ],
      "metadata": {
        "id": "7aY_y4I05QEh",
        "colab": {
          "base_uri": "https://localhost:8080/"
        },
        "outputId": "fb13df84-071a-474a-b56c-3b1c3d98b832"
      },
      "execution_count": null,
      "outputs": [
        {
          "output_type": "stream",
          "name": "stdout",
          "text": [
            "Hello, World!\n"
          ]
        }
      ]
    },
    {
      "cell_type": "markdown",
      "source": [
        "###Question 2. Write a Python program that displays your name and age.\n"
      ],
      "metadata": {
        "id": "sIAyW9TNoMsQ"
      }
    },
    {
      "cell_type": "code",
      "source": [
        "name = \"Rushikesh\"\n",
        "age = 22\n",
        "print(\"Name : \", name)\n",
        "print(\"Age : \", age)"
      ],
      "metadata": {
        "colab": {
          "base_uri": "https://localhost:8080/"
        },
        "id": "-A8zuxu6oaFP",
        "outputId": "a145168d-8ebc-4780-89a8-610a28569e33"
      },
      "execution_count": 1,
      "outputs": [
        {
          "output_type": "stream",
          "name": "stdout",
          "text": [
            "Name :  Rushikesh\n",
            "Age :  22\n"
          ]
        }
      ]
    },
    {
      "cell_type": "markdown",
      "source": [
        "### 3. Write code to print all the pre-defined keywords in Python using the `keyword` library.\n"
      ],
      "metadata": {
        "id": "X9kFgFRvpH3H"
      }
    },
    {
      "cell_type": "code",
      "source": [
        "#  help(\"keywords\") or\n",
        "import keyword\n",
        "print(keyword.kwlist)"
      ],
      "metadata": {
        "colab": {
          "base_uri": "https://localhost:8080/"
        },
        "id": "VfJkbcdisQFR",
        "outputId": "880564ea-bd85-4801-dffe-bf315650dfc4"
      },
      "execution_count": null,
      "outputs": [
        {
          "output_type": "stream",
          "name": "stdout",
          "text": [
            "\n",
            "Here is a list of the Python keywords.  Enter any keyword to get more help.\n",
            "\n",
            "False               class               from                or\n",
            "None                continue            global              pass\n",
            "True                def                 if                  raise\n",
            "and                 del                 import              return\n",
            "as                  elif                in                  try\n",
            "assert              else                is                  while\n",
            "async               except              lambda              with\n",
            "await               finally             nonlocal            yield\n",
            "break               for                 not                 \n",
            "\n"
          ]
        }
      ]
    },
    {
      "cell_type": "markdown",
      "source": [
        "### 4. Write a program that checks if a given word is a Python keyword.\n"
      ],
      "metadata": {
        "id": "EpJkr3l4pNNa"
      }
    },
    {
      "cell_type": "code",
      "source": [
        "import keyword\n",
        "\n",
        "word = input(\"Enter a word:\")\n",
        "if keyword.iskeyword(word):\n",
        "  print(f\"{word} is a Python keyword.\")\n",
        "else:\n",
        "  print(f\"{word} is not a Python keyword.\")"
      ],
      "metadata": {
        "colab": {
          "base_uri": "https://localhost:8080/"
        },
        "id": "aMG2NTVht5ZR",
        "outputId": "c9a58ffa-1d76-41a8-fa47-255c73ccf849"
      },
      "execution_count": null,
      "outputs": [
        {
          "output_type": "stream",
          "name": "stdout",
          "text": [
            "Enter a word:if\n",
            "if is a Python keyword.\n"
          ]
        }
      ]
    },
    {
      "cell_type": "markdown",
      "source": [
        "### 5.Create a list and tuple in Python, and demonstrate how attempting to change an element works differently for each.\n"
      ],
      "metadata": {
        "id": "VF5zSIvNpNdn"
      }
    },
    {
      "cell_type": "code",
      "source": [
        "my_list = [1,2,3,4,5]\n",
        "my_tuple = (1,2,3,4,5)\n",
        "\n",
        "print(\"Original list :\", my_list)\n",
        "\n",
        "#List can be changed\n",
        "my_list[1]= 99 #works fine\n",
        "\n",
        "print(\"Changed list :\", my_list)"
      ],
      "metadata": {
        "id": "RozUa74yvTx1",
        "colab": {
          "base_uri": "https://localhost:8080/"
        },
        "outputId": "63ebf7e1-034c-4184-aad9-e7c742d060af"
      },
      "execution_count": null,
      "outputs": [
        {
          "output_type": "stream",
          "name": "stdout",
          "text": [
            "Original list : [1, 2, 3, 4, 5]\n",
            "Changed list : [1, 99, 3, 4, 5]\n"
          ]
        }
      ]
    },
    {
      "cell_type": "code",
      "source": [
        "print(\"Original tuple :\", my_tuple)\n",
        "\n",
        "#tuples cannot be changed\n",
        "my_tuple[1]=99 #throws error"
      ],
      "metadata": {
        "colab": {
          "base_uri": "https://localhost:8080/",
          "height": 193
        },
        "id": "5Sam4PJQIgk6",
        "outputId": "28f13d40-33ec-4807-e33d-2bffdd05ccdb"
      },
      "execution_count": null,
      "outputs": [
        {
          "output_type": "stream",
          "name": "stdout",
          "text": [
            "Original tuple : (1, 2, 3, 4, 5)\n"
          ]
        },
        {
          "output_type": "error",
          "ename": "TypeError",
          "evalue": "'tuple' object does not support item assignment",
          "traceback": [
            "\u001b[0;31m---------------------------------------------------------------------------\u001b[0m",
            "\u001b[0;31mTypeError\u001b[0m                                 Traceback (most recent call last)",
            "\u001b[0;32m<ipython-input-3-8f99397d9579>\u001b[0m in \u001b[0;36m<cell line: 0>\u001b[0;34m()\u001b[0m\n\u001b[1;32m      2\u001b[0m \u001b[0;34m\u001b[0m\u001b[0m\n\u001b[1;32m      3\u001b[0m \u001b[0;31m#tuples cannot be changed\u001b[0m\u001b[0;34m\u001b[0m\u001b[0;34m\u001b[0m\u001b[0m\n\u001b[0;32m----> 4\u001b[0;31m \u001b[0mmy_tuple\u001b[0m\u001b[0;34m[\u001b[0m\u001b[0;36m1\u001b[0m\u001b[0;34m]\u001b[0m\u001b[0;34m=\u001b[0m\u001b[0;36m99\u001b[0m \u001b[0;31m#throws error\u001b[0m\u001b[0;34m\u001b[0m\u001b[0;34m\u001b[0m\u001b[0m\n\u001b[0m",
            "\u001b[0;31mTypeError\u001b[0m: 'tuple' object does not support item assignment"
          ]
        }
      ]
    },
    {
      "cell_type": "markdown",
      "source": [
        "### 6. Write a function to demonstrate the behavior of mutable and immutable arguments.\n"
      ],
      "metadata": {
        "id": "p--AnC9mpNr6"
      }
    },
    {
      "cell_type": "code",
      "source": [
        "def modify_args(a_list, an_int):\n",
        "  a_list.append(4)\n",
        "  an_int += 10\n",
        "\n",
        "my_list = [1,2,3]\n",
        "my_int = 5\n",
        "\n",
        "modify_args(my_list,my_int)\n",
        "print(\"list after function call :\", my_list)  #mutable, will change\n",
        "print(\"Int after function call :\", my_int) #immutable , won't change"
      ],
      "metadata": {
        "colab": {
          "base_uri": "https://localhost:8080/"
        },
        "id": "vwF8-GmRI_v0",
        "outputId": "faf91e67-cd24-4228-a46d-172523ca535f"
      },
      "execution_count": null,
      "outputs": [
        {
          "output_type": "stream",
          "name": "stdout",
          "text": [
            "list after function call : [1, 2, 3, 4]\n",
            "Int after function call : 5\n"
          ]
        }
      ]
    },
    {
      "cell_type": "markdown",
      "source": [
        "### 7. Write a program that performs basic arithmetic operations on two user-input numbers.\n"
      ],
      "metadata": {
        "id": "FN4EKuOxpO5j"
      }
    },
    {
      "cell_type": "code",
      "source": [
        "x = float(input(\"Enter first number : \"))\n",
        "y = float(input(\"Enter second number : \"))\n",
        "\n",
        "print(\"Sum:\", x+y)\n",
        "print(\"Diffrence:\", x-y)\n",
        "print(\"Product :\", x*y)\n",
        "if y!=0:\n",
        "  print(\"Quotient:\", x/y)\n",
        "else:\n",
        "  print(\"Division  by zero is not allowed\")"
      ],
      "metadata": {
        "colab": {
          "base_uri": "https://localhost:8080/"
        },
        "id": "fmabIHrkKcRe",
        "outputId": "0f3e0ab2-ea9d-4d3e-9155-ea013c8a4491"
      },
      "execution_count": null,
      "outputs": [
        {
          "output_type": "stream",
          "name": "stdout",
          "text": [
            "Enter first number : 98\n",
            "Enter second number : 14\n",
            "Sum: 112.0\n",
            "Diffrence: 84.0\n",
            "Product : 1372.0\n",
            "Quotient: 7.0\n"
          ]
        }
      ]
    },
    {
      "cell_type": "markdown",
      "source": [
        "### 8. Write a program to demonstrate the use of logical operators."
      ],
      "metadata": {
        "id": "lrLI44z2pPdu"
      }
    },
    {
      "cell_type": "code",
      "source": [
        "a = True\n",
        "b = False\n",
        "print(\"a AND b:\", a and b)\n",
        "print(\"a OR b:\", a or b)\n",
        "print(\"a NOT b\", not a)"
      ],
      "metadata": {
        "colab": {
          "base_uri": "https://localhost:8080/"
        },
        "id": "nCM3dUYqL9J2",
        "outputId": "417a2ef8-2d49-4b29-cafe-9edba9fc556d"
      },
      "execution_count": null,
      "outputs": [
        {
          "output_type": "stream",
          "name": "stdout",
          "text": [
            "a AND b: False\n",
            "a OR b: True\n",
            "a NOT b False\n"
          ]
        }
      ]
    },
    {
      "cell_type": "markdown",
      "source": [
        "### 9. Write a Python program to convert user input from string to integer, float, and boolean types."
      ],
      "metadata": {
        "id": "WKm1ux-mpPw4"
      }
    },
    {
      "cell_type": "code",
      "source": [
        "s = input(\"Enter something: \")\n",
        "integer_value = int(s)\n",
        "float_value = float(s)\n",
        "bool_value = bool(s)\n",
        "\n",
        "print(\"As integer:\", integer_value)\n",
        "print(type(integer_value))\n",
        "print(\"As float:\", float_value)\n",
        "print(type(float_value))\n",
        "print(\"As boolean:\", bool_value)\n",
        "print(type(bool_value))"
      ],
      "metadata": {
        "colab": {
          "base_uri": "https://localhost:8080/"
        },
        "id": "00UOsX8AMhC-",
        "outputId": "701f1269-36cb-4aba-d515-1c4609881a71"
      },
      "execution_count": null,
      "outputs": [
        {
          "output_type": "stream",
          "name": "stdout",
          "text": [
            "Enter something: 456\n",
            "As integer: 456\n",
            "<class 'int'>\n",
            "As float: 456.0\n",
            "<class 'float'>\n",
            "As boolean: True\n",
            "<class 'bool'>\n"
          ]
        }
      ]
    },
    {
      "cell_type": "markdown",
      "source": [
        "### 10. Write code to demonstrate type casting with list elements."
      ],
      "metadata": {
        "id": "ny8uyDIMpP9j"
      }
    },
    {
      "cell_type": "code",
      "source": [
        "string_list = [\"1\",\"2\",\"3\"]\n",
        "print(\"Original list:\", string_list)\n",
        "\n",
        "#convert all string to number(int)\n",
        "number_list =[int(item) for item in string_list]\n",
        "print(\"Number list:\", number_list)"
      ],
      "metadata": {
        "colab": {
          "base_uri": "https://localhost:8080/"
        },
        "id": "MbfeyMVRO3mX",
        "outputId": "29f69605-f876-417c-e0bb-2d937ae7c7f8"
      },
      "execution_count": null,
      "outputs": [
        {
          "output_type": "stream",
          "name": "stdout",
          "text": [
            "Original list: ['1', '2', '3']\n",
            "<class 'list'>\n",
            "Number list: [1, 2, 3]\n",
            "<class 'list'>\n"
          ]
        }
      ]
    },
    {
      "cell_type": "markdown",
      "source": [
        "### 11. Write a program that checks if a number is positive, negative, or zero."
      ],
      "metadata": {
        "id": "fHq0E7tIpQKQ"
      }
    },
    {
      "cell_type": "code",
      "source": [
        "number = float(input(\"Enter a number: \"))\n",
        "if number >0:\n",
        "  print(\"Positive\")\n",
        "elif number < 0:\n",
        "  print(\"Negative\")\n",
        "else:\n",
        "  print(\"Zero\")"
      ],
      "metadata": {
        "colab": {
          "base_uri": "https://localhost:8080/"
        },
        "id": "ZFcvpfqXQV5Y",
        "outputId": "ad62aaa8-f5e1-46ac-eafe-327de1a19005"
      },
      "execution_count": null,
      "outputs": [
        {
          "output_type": "stream",
          "name": "stdout",
          "text": [
            "Enter a number: -78\n",
            "Negative\n"
          ]
        }
      ]
    },
    {
      "cell_type": "markdown",
      "source": [
        "### 12. Write a for loop to print numbers from 1 to 10."
      ],
      "metadata": {
        "id": "-G21h-b1pQVg"
      }
    },
    {
      "cell_type": "code",
      "source": [
        "for i in range(1,11):\n",
        "  print(i,end=\" \")\n"
      ],
      "metadata": {
        "colab": {
          "base_uri": "https://localhost:8080/"
        },
        "id": "ADlRP3bpQygA",
        "outputId": "e0e3f3b4-fb7a-445d-c9ee-0222452dbeeb"
      },
      "execution_count": null,
      "outputs": [
        {
          "output_type": "stream",
          "name": "stdout",
          "text": [
            "1 2 3 4 5 6 7 8 9 10 "
          ]
        }
      ]
    },
    {
      "cell_type": "markdown",
      "source": [
        "### 13. Write a Python program to find the sum of all even numbers between 1 and 50."
      ],
      "metadata": {
        "id": "dnaKQsJYpQpH"
      }
    },
    {
      "cell_type": "code",
      "source": [
        "total = 0\n",
        "for number in range(2,51,2):\n",
        "  total += number\n",
        "print(\"Sum of the even numbers: \", total)"
      ],
      "metadata": {
        "colab": {
          "base_uri": "https://localhost:8080/"
        },
        "id": "MDdBxE04RMZJ",
        "outputId": "e19b9f95-daf6-4da2-911e-7fccf271868c"
      },
      "execution_count": null,
      "outputs": [
        {
          "output_type": "stream",
          "name": "stdout",
          "text": [
            "Sum of even numbers: 650\n"
          ]
        }
      ]
    },
    {
      "cell_type": "markdown",
      "source": [
        "### 14. Write a program to reverse a string using a while loop."
      ],
      "metadata": {
        "id": "h3789fadpQ0f"
      }
    },
    {
      "cell_type": "code",
      "source": [
        "text = input(\"Enter some text: \")\n",
        "reversed_text = \"\"\n",
        "index = len(text)-1\n",
        "\n",
        "while index>=0:\n",
        "  reversed_text += text[index]\n",
        "  index -= 1\n",
        "print(\"reversed text:\", reversed_text)"
      ],
      "metadata": {
        "colab": {
          "base_uri": "https://localhost:8080/"
        },
        "id": "FuWSu0TXRuMM",
        "outputId": "ad6de7d6-0a4e-4a02-df1b-0191f00c7b8d"
      },
      "execution_count": 2,
      "outputs": [
        {
          "output_type": "stream",
          "name": "stdout",
          "text": [
            "Enter some text: Rushikesh\n",
            "reversed text: hsekihsuR\n"
          ]
        }
      ]
    },
    {
      "cell_type": "markdown",
      "source": [
        "### 15. Write a Python program to calculate the factorial of a number provided by the user using a while loop."
      ],
      "metadata": {
        "id": "Xq7cCwZUpSJI"
      }
    },
    {
      "cell_type": "code",
      "source": [
        "number = int(input(\"Enter a non-negative integer\"))\n",
        "\n",
        "if number < 0:\n",
        "  print(\"Factorial is not defined for negative numbers\")\n",
        "elif number ==0:\n",
        "  print(\"The factorial of 0 is 1\")\n",
        "else:\n",
        "  factorial = 1\n",
        "  i = number\n",
        "\n",
        "  while i>0:\n",
        "    factorial *= i\n",
        "    i-=1\n",
        "\n",
        "  print(f\"The factorial of {number} is {factorial} \")"
      ],
      "metadata": {
        "id": "9-lJmWNir5pi",
        "colab": {
          "base_uri": "https://localhost:8080/"
        },
        "outputId": "33b8fed3-3047-4dfe-d227-d4bef5c993a5"
      },
      "execution_count": null,
      "outputs": [
        {
          "output_type": "stream",
          "name": "stdout",
          "text": [
            "Enter a non-negative integer5\n",
            "The factorial of 5 is 120 \n"
          ]
        }
      ]
    },
    {
      "cell_type": "code",
      "source": [],
      "metadata": {
        "id": "ld9MiupFWOGB"
      },
      "execution_count": null,
      "outputs": []
    }
  ]
}