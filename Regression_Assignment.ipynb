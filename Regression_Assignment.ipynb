{
  "nbformat": 4,
  "nbformat_minor": 0,
  "metadata": {
    "colab": {
      "provenance": [],
      "authorship_tag": "ABX9TyPryGuwgYIapIkbWnogUA8a",
      "include_colab_link": true
    },
    "kernelspec": {
      "name": "python3",
      "display_name": "Python 3"
    },
    "language_info": {
      "name": "python"
    }
  },
  "cells": [
    {
      "cell_type": "markdown",
      "metadata": {
        "id": "view-in-github",
        "colab_type": "text"
      },
      "source": [
        "<a href=\"https://colab.research.google.com/github/RushikeshChathe/FUNCTIONS/blob/main/Regression_Assignment.ipynb\" target=\"_parent\"><img src=\"https://colab.research.google.com/assets/colab-badge.svg\" alt=\"Open In Colab\"/></a>"
      ]
    },
    {
      "cell_type": "markdown",
      "source": [
        "**Question 1**: What is Simple Linear Regression?\n",
        "\n",
        "Ans:-Simple Linear Regression is a statistical method used to understand the relationship between two continuous variables: one independent variable (predictor) and one dependent variable (response). The goal is to model this relationship using a straight line, known as the regression line, which can be used for predicting the value of the dependent variable based on the independent variable.\n",
        "\n",
        "The general equation of a simple linear regression line is:\n",
        "\n",
        "𝑌\n",
        "=\n",
        "𝑎\n",
        "+\n",
        "𝑏\n",
        "𝑋\n",
        "\n",
        "\n",
        "Where:\n",
        "\n",
        "Y is the dependent variable (what we want to predict)\n",
        "\n",
        "X is the independent variable (the input or predictor)\n",
        "\n",
        "a is the intercept (the value of Y when X = 0)\n",
        "\n",
        "b is the slope (the change in Y for a one-unit change in X)\n",
        "\n",
        "\n",
        "\n"
      ],
      "metadata": {
        "id": "EhZWvamMleqH"
      }
    },
    {
      "cell_type": "markdown",
      "source": [
        "**Question 2**: What are the key assumptions of Simple Linear Regression?\n",
        "\n",
        "Ans:-Simple Linear Regression is based on several important assumptions that must be satisfied for the model to produce valid and reliable results. These assumptions are:\n",
        "\n",
        "**1. Linearity**\n",
        "\n",
        "There should be a linear relationship between the independent variable (X) and the dependent variable (Y). This means the change in Y is proportional to the change in X.\n",
        "\n",
        "**2. Independence**\n",
        "\n",
        "The residuals (errors) should be independent of each other. In other words, one observation should not influence another. This is especially important in time series data.\n",
        "\n",
        "**3. Homoscedasticity**\n",
        "\n",
        "The residuals should have constant variance across all levels of the independent variable. If the variance of errors increases or decreases with X, this is called heteroscedasticity, which violates the assumption.\n",
        "\n",
        "**4. Normality of Errors**\n",
        "\n",
        "The residuals (differences between actual and predicted values) should be normally distributed. This is important for making statistical inferences like confidence intervals and hypothesis tests.\n",
        "\n",
        "**5. No Multicollinearity (for multiple regression only)**\n",
        "\n",
        "While not applicable to simple linear regression (since there's only one predictor), in multiple regression, independent variables should not be highly correlated with each other."
      ],
      "metadata": {
        "id": "u2-i15R1maCX"
      }
    },
    {
      "cell_type": "markdown",
      "source": [
        "**Question 3**: What is heteroscedasticity, and why is it important to address in regression\n",
        "models?\n",
        "\n",
        "Ans:-\n",
        "\n",
        "**Definition:**\n",
        "Heteroscedasticity refers to a condition in a regression model where the variance of the errors (residuals) is not constant across all levels of the independent variable(s).\n",
        "\n",
        "In simple terms, the spread of the residuals (difference between actual and predicted values) increases or decreases as the value of the independent variable changes.\n",
        "\n",
        "**Example:**\n",
        "\n",
        "In a scatter plot of residuals, if the points form a funnel shape (either widening or narrowing), it indicates heteroscedasticity.\n",
        "\n",
        "**Why It’s Important to Address:**\n",
        "\n",
        "**1)Violates Regression Assumptions:**\n",
        "\n",
        "Linear regression assumes **homoscedasticity** (constant variance of errors).\n",
        "\n",
        "Heteroscedasticity breaks this assumption.\n",
        "\n",
        "**2)Leads to Inefficient Estimates:**\n",
        "\n",
        "Coefficients may still be unbiased, but they are **not efficient** (i.e., standard errors are incorrect).\n",
        "\n",
        "**3)Incorrect Statistical Inference:**\n",
        "\n",
        "Confidence intervals and p-values become unreliable.\n",
        "\n",
        "This can lead to **wrong conclusions** in hypothesis testing.\n",
        "\n",
        "**4)Affects Model Performance:**\n",
        "\n",
        "Predictions may become unstable or less accurate for certain ranges of data.\n",
        "\n",
        "\n",
        "\n",
        "**How to Detect It:**\n",
        "\n",
        "**Residual plots** (plotting residuals vs. predicted values).\n",
        "\n",
        "\n",
        "**Breusch-Pagan test** or **White test** (statistical tests).\n",
        "\n",
        "\n",
        "\n",
        "**How to Fix It:**\n",
        "\n",
        "**Apply a log transformation** or **square root transformation** to the dependent variable.\n",
        "\n",
        "Use **weighted least squares regression.**\n",
        "\n",
        "Consider **robust standard errors**.\n",
        "\n",
        "\n",
        "\n"
      ],
      "metadata": {
        "id": "SZto-Ya1nwNj"
      }
    },
    {
      "cell_type": "markdown",
      "source": [
        "**Question 4**: What is Multiple Linear Regression?\n",
        "\n",
        "Ans:-\n",
        "\n",
        "**Definition:**\n",
        "\n",
        "Multiple Linear Regression (MLR) is a statistical technique used to model the relationship between one dependent variable and two or more independent variables. It extends simple linear regression, which uses only one predictor, by including multiple predictors to improve prediction accuracy and explain more variability in the outcome.\n",
        "\n",
        "**Equation of MLR:**\n",
        "\n",
        "\n",
        "Y=a+b\n",
        "1\n",
        "​\n",
        " X\n",
        "1\n",
        "​\n",
        " +b\n",
        "2\n",
        "​\n",
        " X\n",
        "2\n",
        "​\n",
        " +⋯+b\n",
        "n\n",
        "​\n",
        " X\n",
        "n\n",
        "​\n",
        " +ε\n",
        "\n",
        "\n",
        "Where:\n",
        "\n",
        "Y = Dependent variable (target)\n",
        "\n",
        "\n",
        "X₁, X₂, ..., Xₙ = Independent variables (predictors)\n",
        "\n",
        "a = Intercept\n",
        "\n",
        "b₁, b₂, ..., bₙ = Coefficients for each predictor\n",
        "\n",
        "ε = Error term (residuals)\n",
        "\n",
        "**Example:**\n",
        "\n",
        "If we want to predict a student’s exam score based on hours studied (X₁), sleep hours (X₂), and attendance rate (X₃), we can use multiple linear regression.\n",
        "\n",
        "**Uses:**\n",
        "\n",
        "-Forecasting and prediction (e.g., sales, pricing, customer behavior)\n",
        "\n",
        "-Analyzing the impact of several factors on a single outcome\n",
        "\n",
        "-Feature importance in machine learning models\n",
        "\n",
        "\n",
        "**Key Assumptions:**\n",
        "\n",
        "-Linearity between dependent and independent variables\n",
        "\n",
        "-Independence of errors\n",
        "\n",
        "-Homoscedasticity (equal error variances)\n",
        "\n",
        "-Normality of residuals\n",
        "\n",
        "-No multicollinearity between predictors\n",
        "\n"
      ],
      "metadata": {
        "id": "ZU3mtnBvrTiV"
      }
    },
    {
      "cell_type": "markdown",
      "source": [
        "**Question 5**: What is polynomial regression, and how does it differ from linear\n",
        "regression?\n",
        "\n",
        "Ans:-\n",
        "\n",
        "**Definition:**\n",
        "\n",
        "**Polynomial Regression** is a type of regression analysis in which the relationship between the independent variable (X) and the dependent variable (Y) is modeled as an **nth-degree polynomial**.\n",
        "\n",
        "It is used when the data shows a **non-linear relationship**, but can still be represented as a curve.\n",
        "\n",
        "**Polynomial Regression Equation:**\n",
        "\n",
        "Y=a+b\n",
        "1\n",
        "​\n",
        " X+b\n",
        "2\n",
        "​\n",
        " X\n",
        "2\n",
        " +b\n",
        "3\n",
        "​\n",
        " X\n",
        "3\n",
        " +⋯+b\n",
        "n\n",
        "​\n",
        " X\n",
        "n\n",
        " +ε\n",
        "\n",
        "**Where:**\n",
        "\n",
        "-Y = Dependent variable\n",
        "\n",
        "-X, X², X³, ..., Xⁿ = Independent variable raised to increasing powers\n",
        "\n",
        "-a = Intercept\n",
        "\n",
        "-b₁, b₂, ..., bₙ = Coefficients for each term\n",
        "\n",
        "-ε = Error term\n",
        "\n",
        "\n",
        "**Example:**\n",
        "\n",
        "If we are analyzing the effect of temperature (X) on ice cream sales (Y), and the relationship is curved (e.g., sales increase up to a point and then drop), polynomial regression is more suitable than linear regression."
      ],
      "metadata": {
        "id": "3B6yLMBQta1G"
      }
    },
    {
      "cell_type": "markdown",
      "source": [
        "**Question 6**: Implement a Python program to fit a Simple Linear Regression model to\n",
        "the following sample data:\n",
        "\n",
        "● X = [1, 2, 3, 4, 5]\n",
        "● Y = [2.1, 4.3, 6.1, 7.9, 10.2]\n",
        "Plot the regression line over the data points.\n"
      ],
      "metadata": {
        "id": "v9IkgZ8p-k-y"
      }
    },
    {
      "cell_type": "code",
      "execution_count": 1,
      "metadata": {
        "colab": {
          "base_uri": "https://localhost:8080/",
          "height": 507
        },
        "id": "MVFDHfBLlQOO",
        "outputId": "d12197d6-867f-48e3-d3c3-9620d8115684"
      },
      "outputs": [
        {
          "output_type": "stream",
          "name": "stdout",
          "text": [
            "Intercept (a): 0.17999999999999794\n",
            "Slope (b): 1.9800000000000004\n"
          ]
        },
        {
          "output_type": "display_data",
          "data": {
            "text/plain": [
              "<Figure size 640x480 with 1 Axes>"
            ],
            "image/png": "[encoded data removed]"
          },
          "metadata": {}
        }
      ],
      "source": [
        "import numpy as np\n",
        "import matplotlib.pyplot as plt\n",
        "from sklearn.linear_model import LinearRegression\n",
        "\n",
        "# Sample data\n",
        "X = [1, 2, 3, 4, 5]\n",
        "Y = [2.1, 4.3, 6.1, 7.9, 10.2]\n",
        "\n",
        "# Reshape X for sklearn (it expects 2D input)\n",
        "X = np.array(X).reshape(-1, 1)\n",
        "Y = np.array(Y)\n",
        "\n",
        "# Create and train the model\n",
        "model = LinearRegression()\n",
        "model.fit(X, Y)\n",
        "\n",
        "# Predict Y values\n",
        "Y_pred = model.predict(X)\n",
        "\n",
        "# Print model parameters\n",
        "print(f\"Intercept (a): {model.intercept_}\")\n",
        "print(f\"Slope (b): {model.coef_[0]}\")\n",
        "\n",
        "# Plot data points\n",
        "plt.scatter(X, Y, color='blue', label='Actual data')\n",
        "\n",
        "# Plot regression line\n",
        "plt.plot(X, Y_pred, color='red', label='Regression line')\n",
        "\n",
        "# Labels and title\n",
        "plt.xlabel('X')\n",
        "plt.ylabel('Y')\n",
        "plt.title('Simple Linear Regression')\n",
        "plt.legend()\n",
        "plt.grid(True)\n",
        "\n",
        "# Show plot\n",
        "plt.show()\n"
      ]
    },
    {
      "cell_type": "markdown",
      "source": [
        "📈**What This Program Does:**\n",
        "\n",
        "-Fits a simple linear regression model to the data.\n",
        "\n",
        "-Predicts Y values using the model.\n",
        "\n",
        "-Plots the original data points and the regression line.\n",
        "\n",
        "✅ **Output:**\n",
        "\n",
        "You’ll see a scatter plot with blue dots (original data) and a red line (regression line). It visually shows how well the model fits the data.\n"
      ],
      "metadata": {
        "id": "h1z7REOa_pMM"
      }
    },
    {
      "cell_type": "markdown",
      "source": [],
      "metadata": {
        "id": "UWtTue86ABGq"
      }
    },
    {
      "cell_type": "markdown",
      "source": [
        "**Question 7**: Fit a Multiple Linear Regression model on this sample data:\n",
        "\n",
        "● Area = [1200, 1500, 1800, 2000]\n",
        "● Rooms = [2, 3, 3, 4]\n",
        "● Price = [250000, 300000, 320000, 370000]\n",
        "Check for multicollinearity using VIF and report the results.\n",
        "\n",
        "✅ **Step 1:**\n",
        "Multiple Linear Regression\n",
        "We will fit a model to predict Price based on Area and Rooms.\n",
        "\n",
        "✅**Step 2:**\n",
        "Check for Multicollinearity Using VIF\n",
        "VIF (Variance Inflation Factor) helps detect multicollinearity between independent variables.\n",
        "A VIF > 5 or 10 typically indicates high multicollinearity."
      ],
      "metadata": {
        "id": "uRAHetbqAgJU"
      }
    },
    {
      "cell_type": "code",
      "source": [
        "import pandas as pd\n",
        "import numpy as np\n",
        "from sklearn.linear_model import LinearRegression\n",
        "from statsmodels.stats.outliers_influence import variance_inflation_factor\n",
        "import statsmodels.api as sm\n",
        "\n",
        "# Sample data\n",
        "data = {\n",
        "    'Area': [1200, 1500, 1800, 2000],\n",
        "    'Rooms': [2, 3, 3, 4],\n",
        "    'Price': [250000, 300000, 320000, 370000]\n",
        "}\n",
        "\n",
        "# Create DataFrame\n",
        "df = pd.DataFrame(data)\n",
        "\n",
        "# Independent variables\n",
        "X = df[['Area', 'Rooms']]\n",
        "y = df['Price']\n",
        "\n",
        "# Fit the multiple linear regression model\n",
        "model = LinearRegression()\n",
        "model.fit(X, y)\n",
        "\n",
        "# Print model coefficients\n",
        "print(f\"Intercept: {model.intercept_}\")\n",
        "print(f\"Coefficients: {dict(zip(X.columns, model.coef_))}\")\n",
        "\n",
        "# Add constant for VIF calculation\n",
        "X_with_const = sm.add_constant(X)\n",
        "\n",
        "# Calculate VIF for each feature\n",
        "vif_data = pd.DataFrame()\n",
        "vif_data['Feature'] = X_with_const.columns\n",
        "vif_data['VIF'] = [variance_inflation_factor(X_with_const.values, i) for i in range(X_with_const.shape[1])]\n",
        "\n",
        "print(\"\\nVariance Inflation Factor (VIF):\")\n",
        "print(vif_data)\n"
      ],
      "metadata": {
        "colab": {
          "base_uri": "https://localhost:8080/"
        },
        "id": "s08Q8YW2BUIe",
        "outputId": "2ce066be-115c-408d-fa20-61977ce68e5b"
      },
      "execution_count": 2,
      "outputs": [
        {
          "output_type": "stream",
          "name": "stdout",
          "text": [
            "Intercept: 103157.89473684214\n",
            "Coefficients: {'Area': np.float64(63.15789473684211), 'Rooms': np.float64(34736.842105263146)}\n",
            "\n",
            "Variance Inflation Factor (VIF):\n",
            "  Feature        VIF\n",
            "0   const  34.210526\n",
            "1    Area   7.736842\n",
            "2   Rooms   7.736842\n"
          ]
        }
      ]
    },
    {
      "cell_type": "markdown",
      "source": [
        "✅ Explanation of Output:\n",
        "\n",
        "**Intercept** and **coefficients**: These tell how Area and Rooms influence Price.\n",
        "\n",
        "**VIF values:**\n",
        "\n",
        "VIF ≈ 1: No multicollinearity\n",
        "\n",
        "VIF > 5: Moderate multicollinearity\n",
        "\n",
        "VIF > 10: High multicollinearity\n",
        "\n",
        "\n",
        "**Expected VIF Output Example:**"
      ],
      "metadata": {
        "id": "ETRTQafeBsyw"
      }
    },
    {
      "cell_type": "code",
      "source": [
        "Variance Inflation Factor (VIF):\n",
        "   Feature   VIF\n",
        "0   const   56.23\n",
        "1    Area    45.67\n",
        "2   Rooms    12.34\n"
      ],
      "metadata": {
        "id": "oC1Ls3TgCW80"
      },
      "execution_count": null,
      "outputs": []
    },
    {
      "cell_type": "markdown",
      "source": [
        "**Question 8:** Implement polynomial regression on the following data:\n",
        "\n",
        "● X = [1, 2, 3, 4, 5] ● Y = [2.2, 4.8, 7.5, 11.2, 14.7]\n",
        "Fit a 2nd-degree polynomial and plot the resulting curve.\n",
        "\n",
        "✅ **Goal:**\n",
        "Fit a 2nd-degree polynomial regression on the given data and plot the resulting curve.\n",
        ""
      ],
      "metadata": {
        "id": "qgJsHYerCiSs"
      }
    },
    {
      "cell_type": "code",
      "source": [
        "X = [1, 2, 3, 4, 5]\n",
        "Y = [2.2, 4.8, 7.5, 11.2, 14.7]\n",
        "\n",
        "import numpy as np\n",
        "import matplotlib.pyplot as plt\n",
        "from sklearn.linear_model import LinearRegression\n",
        "from sklearn.preprocessing import PolynomialFeatures\n",
        "\n",
        "# Data\n",
        "X = np.array([1, 2, 3, 4, 5]).reshape(-1, 1)\n",
        "Y = np.array([2.2, 4.8, 7.5, 11.2, 14.7])\n",
        "\n",
        "# Transform features to polynomial (degree = 2)\n",
        "poly = PolynomialFeatures(degree=2)\n",
        "X_poly = poly.fit_transform(X)\n",
        "\n",
        "# Fit the polynomial regression model\n",
        "model = LinearRegression()\n",
        "model.fit(X_poly, Y)\n",
        "\n",
        "# Predict values\n",
        "Y_pred = model.predict(X_poly)\n",
        "\n",
        "# Print coefficients\n",
        "print(\"Coefficients:\", model.coef_)\n",
        "print(\"Intercept:\", model.intercept_)\n",
        "\n",
        "# Plot original data\n",
        "plt.scatter(X, Y, color='blue', label='Actual Data')\n",
        "\n",
        "# Plot polynomial regression curve\n",
        "X_range = np.linspace(1, 5, 100).reshape(-1, 1)\n",
        "X_range_poly = poly.transform(X_range)\n",
        "Y_range_pred = model.predict(X_range_poly)\n",
        "plt.plot(X_range, Y_range_pred, color='red', label='Polynomial Curve (Degree 2)')\n",
        "\n",
        "# Labels and title\n",
        "plt.xlabel('X')\n",
        "plt.ylabel('Y')\n",
        "plt.title('2nd Degree Polynomial Regression')\n",
        "plt.legend()\n",
        "plt.grid(True)\n",
        "plt.show()\n"
      ],
      "metadata": {
        "colab": {
          "base_uri": "https://localhost:8080/",
          "height": 507
        },
        "id": "NTT50mNiDIZG",
        "outputId": "291a556a-c5e9-4747-d9a6-7dbdcb86b000"
      },
      "execution_count": 4,
      "outputs": [
        {
          "output_type": "stream",
          "name": "stdout",
          "text": [
            "Coefficients: [0.   1.94 0.2 ]\n",
            "Intercept: 0.06000000000000938\n"
          ]
        },
        {
          "output_type": "display_data",
          "data": {
            "text/plain": [
              "<Figure size 640x480 with 1 Axes>"
            ],
            "image/png": "[encoded data removed]"
          },
          "metadata": {}
        }
      ]
    },
    {
      "cell_type": "markdown",
      "source": [
        "✅ **Output:**\n",
        "\n",
        "-A smooth **curve** (parabola) fitting the data.\n",
        "\n",
        "-The red curve represents the **2nd-degree polynomial** **regression line**.\n",
        "\n",
        "-The printed coefficients help understand the polynomial equation."
      ],
      "metadata": {
        "id": "cD3yGC18DYnD"
      }
    },
    {
      "cell_type": "markdown",
      "source": [
        "**Question 9**: Create a residuals plot for a regression model trained on this data:\n",
        "\n",
        "● X = [10, 20, 30, 40, 50]\n",
        "● Y = [15, 35, 40, 50, 65]\n",
        "Assess heteroscedasticity by examining the spread of residuals.\n",
        "\n",
        "✅ **Objective:**\n",
        "\n",
        "Train a **Simple Linear Regression** model on the given data, **plot the residuals**, and **assess heteroscedasticity** by checking if the residuals have a constant spread."
      ],
      "metadata": {
        "id": "I3_txTs6Dtq5"
      }
    },
    {
      "cell_type": "code",
      "source": [
        "X = [10, 20, 30, 40, 50]\n",
        "Y = [15, 35, 40, 50, 65]\n",
        "import numpy as np\n",
        "import matplotlib.pyplot as plt\n",
        "from sklearn.linear_model import LinearRegression\n",
        "\n",
        "# Data\n",
        "X = np.array([10, 20, 30, 40, 50]).reshape(-1, 1)\n",
        "Y = np.array([15, 35, 40, 50, 65])\n",
        "\n",
        "# Train the regression model\n",
        "model = LinearRegression()\n",
        "model.fit(X, Y)\n",
        "\n",
        "# Predict Y values\n",
        "Y_pred = model.predict(X)\n",
        "\n",
        "# Calculate residuals\n",
        "residuals = Y - Y_pred\n",
        "\n",
        "# Plot residuals\n",
        "plt.scatter(X, residuals, color='purple', label='Residuals')\n",
        "plt.axhline(y=0, color='black', linestyle='--', linewidth=1)\n",
        "\n",
        "# Labels and formatting\n",
        "plt.title('Residuals Plot')\n",
        "plt.xlabel('X')\n",
        "plt.ylabel('Residuals')\n",
        "plt.grid(True)\n",
        "plt.legend()\n",
        "plt.show()\n"
      ],
      "metadata": {
        "colab": {
          "base_uri": "https://localhost:8080/",
          "height": 472
        },
        "id": "x6N3iLu2El3b",
        "outputId": "e748a56a-9666-44eb-a78e-a996376c37b1"
      },
      "execution_count": 5,
      "outputs": [
        {
          "output_type": "display_data",
          "data": {
            "text/plain": [
              "<Figure size 640x480 with 1 Axes>"
            ],
            "image/png": "[encoded data removed]"
          },
          "metadata": {}
        }
      ]
    },
    {
      "cell_type": "markdown",
      "source": [
        "✅ **Assessment of Heteroscedasticity:**\n",
        "\n",
        "-Look at the **spread** of residuals across different X values.\n",
        "\n",
        "-If the **residuals are randomly** scattered around the **horizontal line (y=0)** with equal variance, the data satisfies homoscedasticity.\n",
        "\n",
        "-If the residuals **fan out, narrow, or show a pattern**, then **heteroscedasticity** may be present."
      ],
      "metadata": {
        "id": "udvA0Ng2EvXO"
      }
    },
    {
      "cell_type": "markdown",
      "source": [
        "**Question 10:** Imagine you are a data scientist working for a real estate company. You\n",
        "need to predict house prices using features like area, number of rooms, and location.\n",
        "However, you detect heteroscedasticity and multicollinearity in your regression\n",
        "model. Explain the steps you would take to address these issues and ensure a robust\n",
        "model.\n",
        "\n",
        "\n",
        "🧑‍💼 **Scenario:**\n",
        "\n",
        "As a data scientist at a real estate company, I am building a regression model to predict house prices using features such as area, number of rooms, and location. During model evaluation, I detect:\n",
        "\n",
        "1)Heteroscedasticity (non-constant variance of residuals)\n",
        "\n",
        "2)Multicollinearity (high correlation between independent variables)\n",
        "\n",
        "To ensure a robust and reliable model, I would take the following steps:\n",
        "\n",
        "✅ **1. Addressing Heteroscedasticity:**\n",
        "\n",
        "**a.** **Transform the Target Variable**\n",
        "\n",
        "Apply a transformation (e.g., log, square root) to stabilize variance.\n",
        "\n",
        "\n",
        "Example:\n",
        "df['Price_log'] = np.log(df['Price'])\n",
        "\n",
        "**b.** **Use Weighted Least Squares (WLS) Regression**\n",
        "\n",
        "Assign weights to observations based on the variance of residuals.\n",
        "\n",
        "**c.** **Check for Outliers**\n",
        "\n",
        "Use boxplots or z-scores to detect and possibly remove extreme values that cause variance.\n",
        "\n",
        "**d.** **Add Missing Features**\n",
        "\n",
        "If heteroscedasticity is due to omitted variables (e.g., neighborhood quality), include those in the model.\n"
      ],
      "metadata": {
        "id": "MPMKr3W1FUvk"
      }
    },
    {
      "cell_type": "markdown",
      "source": [
        "✅ **2. Addressing Multicollinearity:**\n",
        "**a. Calculate VIF (Variance Inflation Factor)**\n",
        "\n",
        "Identify highly correlated features (VIF > 5 or 10).\n",
        "\n",
        "#Use statsmodels to calculate VIF\n",
        "**b. Remove or Combine Features**\n",
        "\n",
        "Drop one of the correlated variables, or combine them into a single feature (e.g., area per room).\n",
        "\n",
        "**c. Use Dimensionality Reduction (PCA)**\n",
        "\n",
        "Principal Component Analysis helps reduce multicollinearity by creating uncorrelated components.\n",
        "\n",
        "**d. Regularization Techniques**\n",
        "\n",
        "Use **Ridge Regression** or **Lasso Regression**, which penalize high coefficients and help manage multicollinearity."
      ],
      "metadata": {
        "id": "sWFYGyg9dO4m"
      }
    },
    {
      "cell_type": "markdown",
      "source": [
        "✅ 3. **Final Steps to Ensure Robustness:**\n",
        "\n",
        "**-Cross-validation:**\n",
        " Use k-fold cross-validation to evaluate model stability.\n",
        "\n",
        "**-Check Residual Plots:**\n",
        "Ensure residuals are evenly spread after corrections.\n",
        "\n",
        "**-Model Interpretation:**\n",
        "Use adjusted R² and feature importance scores.\n",
        "\n",
        "**-Deployment Ready:**\n",
        "Save the final model pipeline with preprocessing steps included."
      ],
      "metadata": {
        "id": "RFzHuN1tecHD"
      }
    },
    {
      "cell_type": "code",
      "source": [],
      "metadata": {
        "id": "HdAtF3dYdy7Q"
      },
      "execution_count": null,
      "outputs": []
    }
  ]
}