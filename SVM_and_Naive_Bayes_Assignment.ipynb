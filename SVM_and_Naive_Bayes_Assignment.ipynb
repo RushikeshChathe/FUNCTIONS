{
  "nbformat": 4,
  "nbformat_minor": 0,
  "metadata": {
    "colab": {
      "provenance": [],
      "include_colab_link": true
    },
    "kernelspec": {
      "name": "python3",
      "display_name": "Python 3"
    },
    "language_info": {
      "name": "python"
    }
  },
  "cells": [
    {
      "cell_type": "markdown",
      "metadata": {
        "id": "view-in-github",
        "colab_type": "text"
      },
      "source": [
        "<a href=\"https://colab.research.google.com/github/RushikeshChathe/FUNCTIONS/blob/main/SVM_and_Naive_Bayes_Assignment.ipynb\" target=\"_parent\"><img src=\"https://colab.research.google.com/assets/colab-badge.svg\" alt=\"Open In Colab\"/></a>"
      ]
    },
    {
      "cell_type": "markdown",
      "source": [
        "#**SVM & Naive Bayes Assignment**\n",
        "\n",
        "**Theoretical Questions**\n",
        "\n",
        "Q.1 What is a Support Vector Machine (SVM)?\n",
        "\n",
        "→ A Support Vector Machine (SVM) is a supervised machine learning algorithm used for classification & regression tasks. It works by finding the optimal hyperplane that separates data points of different classes with the maximum margin. In simple terms, SVM tries to draw the widest possible line between classes so that future predictions are more accurate.\n",
        "\n",
        "Q.2 What is the difference between Hard Margin & Soft Margin SVM?\n",
        "\n",
        "→\n",
        "- Hard Margin SVM:\n",
        "1. It is Strictly separates classes with no misclassification allowed.\n",
        "2. It works only with perfectly separable data.\n",
        "3. No tolerance for errors.\n",
        "4. Overfitting in noisy datasets.\n",
        "- Soft Margin SVM:\n",
        "1. It allows some misclassification for better generalization.\n",
        "2. Works with overlapping or noisy data.\n",
        "3. Tolerates errors via a penalty parameter C.\n",
        "4. Reduces overfitting.\n",
        "\n",
        "Q.3 What is the mathematical intuition behind SVM?\n",
        "\n",
        "→\n",
        "- For classification, SVM finds a hyperplane defined by:\n",
        "\n",
        "  w⋅x+b=0\n",
        "- The goal is to maximize the margin between classes:\n",
        "\n",
        "  Margin = 2 / ||w||\n",
        "- Optimization problem:\n",
        "\n",
        "  Minimize   (1/2) * ||w||^2\n",
        "  \n",
        "  Subject to y_i * (w · x_i + b) ≥ 1\n",
        "- This ensures points are correctly classified while keeping the margin as wide as possible.\n",
        "\n",
        "Q.4 What is the role of Lagrange Multipliers in SVM?\n",
        "\n",
        "→ Lagrange multipliers convert the constrained optimization problem into an unconstrained one using the Lagrangian function:\n",
        "\n",
        "L(w, b, α) = (1/2) * ||w||^2 - Σ [ α_i * ( y_i * (w · x_i + b) - 1 ) ]\n",
        "\n",
        "Here,\n",
        "- 𝛼𝑖 are the multipliers\n",
        "- They help in identifying support vectors (where 𝛼𝑖 > 0).\n",
        "\n",
        "Q.5 What are Support Vectors in SVM?\n",
        "\n",
        "→ Support vectors are the data points closest to the decision boundary (hyperplane). They are critical because:\n",
        "- They determine the position & orientation of the hyperplane.\n",
        "- Removing non-support vectors does not change the decision boundary.\n",
        "\n",
        "Q.6 What is a Support Vector Classifier (SVC)?\n",
        "\n",
        "→ SVC is the classification implementation of SVM. It finds the optimal separating hyperplane between classes using margin maximization, possibly with kernels for non-linear data.\n",
        "\n",
        "Q.7 What is a Support Vector Regressor (SVR)?\n",
        "\n",
        "→ SVR adapts SVM for regression tasks by finding a function that deviates from actual target values by at most ε while being as flat as possible.\n",
        "\n",
        "Q.8 What is the Kernel Trick in SVM?\n",
        "\n",
        "→ The kernel trick allows SVM to work in higher-dimensional spaces without explicitly transforming the data.\n",
        "- It computes:\n",
        "\n",
        "  K(xi​,xj​) = ϕ(xi​)⋅ϕ(xj​)\n",
        "\n",
        "  where, 𝜙 is a transformation function.\n",
        "\n",
        "- It allowing SVM to handle non-linear separations. Examples: Linear, Polynomial, RBF.\n",
        "\n",
        "Q.9 Compare Linear Kernel, Polynomial Kernel & RBF Kernel.\n",
        "\n",
        "→\n",
        "- Linear: For linearly separable data; fast & interpretable.\n",
        "- Polynomial: Captures interactions of features; good for moderate complexity.\n",
        "- RBF: Handles complex, non-linear data; most widely used.\n",
        "\n",
        "Q.10 What is the effect of the C parameter in SVM?\n",
        "\n",
        "→\n",
        "- High C → Low bias, high variance (focus on correct classification, smaller margin)\n",
        "- Low C → High bias, low variance (wider margin, more tolerance for errors).\n",
        "\n",
        "Q.11 What is the role of the Gamma parameter in RBF Kernel SVM?\n",
        "\n",
        "→ The role of the Gamma parameter in RBF Kernel SVM:\n",
        "- High gamma → Smaller decision boundary, overfitting risk\n",
        "- Low gamma → Larger decision boundary, underfitting risk\n",
        "\n",
        "The Gamma controls the influence of a single training point.\n",
        "\n",
        "Q.12 What is the Naïve Bayes classifier & y is it called \"Naïve\"?\n",
        "\n",
        "→ Naïve Bayes is a probabilistic classifier based on Bayes theorem, assuming independence between features.\n",
        "\n",
        "It's called \"naïve\" because in reality, features are often dependent, but the model assumes they are independent to simplify computation.\n",
        "\n",
        "Q.13 What is Bayes Theorem?\n",
        "\n",
        "→ It calculates as:\n",
        "\n",
        "P(A|B) = [ P(B|A) * P(A) ] / P(B)\n",
        "- It relates conditional probabilities of events.\n",
        "\n",
        "Q.14 Explain the differences between Gaussian Naïve Bayes, Multinomial Naïve Bayes & Bernoulli Naïve Bayes.\n",
        "\n",
        "→\n",
        "- Gaussian: Continuous data assuming normal distribution.\n",
        "- Multinomial: Discrete counts (e.g., word frequencies).\n",
        "- Bernoulli: Binary features (0/1 presence or absence).\n",
        "\n",
        "Q.15 When should you use Gaussian Naïve Bayes over other variants?\n",
        "\n",
        "→ When features are continuous & approximately follow a normal distribution (e.g., sensor readings, measurements).\n",
        "\n",
        "Q.16 What are the key assumptions made by Naïve Bayes?\n",
        "\n",
        "→ Key assumptions made by Naïve Bayes:\n",
        "- Features are conditionally independent given the class label.\n",
        "- All features contribute equally to the outcome.\n",
        "\n",
        "Q.17 What are the advantages & disadvantages of Naïve Bayes?\n",
        "\n",
        "→\n",
        "- Advantages:\n",
        "1. Simple & fast\n",
        "2. Works well with small datasets\n",
        "3. Effective for text classification\n",
        "- Disadvantages:\n",
        "1. Assumes independence (often unrealistic)\n",
        "2. Poor for highly correlated features.\n",
        "\n",
        "Q.18 Why is Naïve Bayes a good choice for text classification?\n",
        "\n",
        "→ It is Naïve Bayes a good choice for text classification, because of:\n",
        "- Text features (word counts) are often sparse & high-dimensional.\n",
        "- Multinomial/Bernoulli NB works well with such data.\n",
        "\n",
        "Q.19 Compare SVM & Naïve Bayes for classification tasks.\n",
        "\n",
        "→\n",
        "- SVM: Works well with complex boundaries, better generalization, slower training.\n",
        "- Naïve Bayes: Simpler, faster, better for probabilistic outputs, may fail with correlated features.\n",
        "\n",
        "Q.20 How does Laplace Smoothing help in Naïve Bayes?\n",
        "\n",
        "→ Laplace smoothing avoids zero probabilities by adding a small constant (usually 1) to all counts:\n",
        "\n",
        "P(word | class) = ( count(word, class) + 1 ) / ( total words in class + 𝑉 )\n",
        "\n",
        "where,\n",
        "𝑉 = vocabulary size.\n",
        "\n",
        "**Practical Questions**\n",
        "\n",
        "Q.21 Write a Python program to train an SVM Classifier on the Iris dataset & evaluate accuracy.\n",
        "\n",
        "→"
      ],
      "metadata": {
        "id": "NRI6RfcTvaB2"
      }
    },
    {
      "cell_type": "code",
      "execution_count": null,
      "metadata": {
        "colab": {
          "base_uri": "https://localhost:8080/"
        },
        "id": "ZCj3I-fEt2kn",
        "outputId": "8621a455-48f5-48aa-8def-8dc0ad75eca1"
      },
      "outputs": [
        {
          "output_type": "stream",
          "name": "stdout",
          "text": [
            "Accuracy: 1.0\n"
          ]
        }
      ],
      "source": [
        "from sklearn import datasets\n",
        "from sklearn.model_selection import train_test_split\n",
        "from sklearn.svm import SVC\n",
        "from sklearn.metrics import accuracy_score\n",
        "\n",
        "iris = datasets.load_iris()\n",
        "X, y = iris.data, iris.target\n",
        "X_train, X_test, y_train, y_test = train_test_split(X, y, test_size=0.2, random_state=42)\n",
        "model = SVC(kernel='linear')\n",
        "model.fit(X_train, y_train)\n",
        "y_pred = model.predict(X_test)\n",
        "\n",
        "print(\"Accuracy:\", accuracy_score(y_test, y_pred))"
      ]
    },
    {
      "cell_type": "markdown",
      "source": [
        "Q.22 Write a Python program to train two SVM classifiers with Linear & RBF kernels on the Wine dataset, then compare their accuracies.\n",
        "\n",
        "→"
      ],
      "metadata": {
        "id": "pMLLXDzX8BFZ"
      }
    },
    {
      "cell_type": "code",
      "source": [
        "from sklearn.datasets import load_wine\n",
        "from sklearn.model_selection import train_test_split\n",
        "from sklearn.svm import SVC\n",
        "from sklearn.metrics import accuracy_score\n",
        "\n",
        "wine = load_wine()\n",
        "X, y = wine.data, wine.target\n",
        "X_train, X_test, y_train, y_test = train_test_split(X, y, test_size=0.2, random_state=42)\n",
        "linear_svm = SVC(kernel='linear')\n",
        "linear_svm.fit(X_train, y_train)\n",
        "acc_linear = accuracy_score(y_test, linear_svm.predict(X_test))\n",
        "rbf_svm = SVC(kernel='rbf')\n",
        "rbf_svm.fit(X_train, y_train)\n",
        "acc_rbf = accuracy_score(y_test, rbf_svm.predict(X_test))\n",
        "\n",
        "print(\"Linear Kernel Accuracy:\", acc_linear)\n",
        "print(\"RBF Kernel Accuracy:\", acc_rbf)"
      ],
      "metadata": {
        "colab": {
          "base_uri": "https://localhost:8080/"
        },
        "id": "VgRP0caj8Q-G",
        "outputId": "0510acf6-ec62-4771-97db-bddf2ffa3b36"
      },
      "execution_count": null,
      "outputs": [
        {
          "output_type": "stream",
          "name": "stdout",
          "text": [
            "Linear Kernel Accuracy: 1.0\n",
            "RBF Kernel Accuracy: 0.8055555555555556\n"
          ]
        }
      ]
    },
    {
      "cell_type": "markdown",
      "source": [
        "Q.23 Write a Python program to train an SVM Regressor (SVR) on a housing dataset & evaluate it using Mean Squared Error (MSE).\n",
        "\n",
        "→"
      ],
      "metadata": {
        "id": "40JP4ckf8V8h"
      }
    },
    {
      "cell_type": "code",
      "source": [
        "from sklearn.datasets import fetch_california_housing\n",
        "from sklearn.model_selection import train_test_split\n",
        "from sklearn.svm import SVR #Support Vector Machine Regressor\n",
        "from sklearn.metrics import mean_squared_error\n",
        "\n",
        "housing = fetch_california_housing()\n",
        "X, y = housing.data, housing.target\n",
        "X_train, X_test, y_train, y_test = train_test_split(X, y, test_size=0.2, random_state=42)\n",
        "svr = SVR(kernel='rbf')\n",
        "svr.fit(X_train, y_train)\n",
        "\n",
        "y_pred = svr.predict(X_test)\n",
        "print(\"Mean Squared Error:\", mean_squared_error(y_test, y_pred))"
      ],
      "metadata": {
        "colab": {
          "base_uri": "https://localhost:8080/"
        },
        "id": "pocAQfgi8ZTK",
        "outputId": "d1906614-9547-4a8e-92bf-4d1010ea3e73"
      },
      "execution_count": null,
      "outputs": [
        {
          "output_type": "stream",
          "name": "stdout",
          "text": [
            "Mean Squared Error: 1.3320115421348744\n"
          ]
        }
      ]
    },
    {
      "cell_type": "markdown",
      "source": [
        "Q.24 Write a Python program to train an SVM Classifier with a Polynomial Kernel & visualize the decision boundary.\n",
        "\n",
        "→"
      ],
      "metadata": {
        "id": "N146PzK78e3z"
      }
    },
    {
      "cell_type": "code",
      "source": [
        "import numpy as np\n",
        "import matplotlib.pyplot as plt\n",
        "from sklearn.datasets import make_classification\n",
        "from sklearn.svm import SVC\n",
        "\n",
        "X, y = make_classification(n_features=2, n_redundant=0, n_informative=2,\n",
        "                           n_clusters_per_class=1, random_state=42)\n",
        "model = SVC(kernel='poly', degree=3)\n",
        "model.fit(X, y)\n",
        "xx, yy = np.meshgrid(np.linspace(X[:, 0].min()-1, X[:, 0].max()+1, 200),\n",
        "                     np.linspace(X[:, 1].min()-1, X[:, 1].max()+1, 200))\n",
        "Z = model.predict(np.c_[xx.ravel(), yy.ravel()])\n",
        "Z = Z.reshape(xx.shape)\n",
        "\n",
        "plt.contourf(xx, yy, Z, alpha=0.3)\n",
        "plt.scatter(X[:, 0], X[:, 1], c=y, edgecolors='k')\n",
        "plt.title(\"SVM with Polynomial Kernel\")\n",
        "plt.show()"
      ],
      "metadata": {
        "colab": {
          "base_uri": "https://localhost:8080/",
          "height": 452
        },
        "id": "m0yviv0N8kjb",
        "outputId": "78eea25b-d514-4ae1-efca-388db314ed3c"
      },
      "execution_count": null,
      "outputs": [
        {
          "output_type": "display_data",
          "data": {
            "text/plain": [
              "<Figure size 640x480 with 1 Axes>"
            ],
            "image/png": "[encoded data removed]"
          },
          "metadata": {}
        }
      ]
    },
    {
      "cell_type": "markdown",
      "source": [
        "Q.25 Write a Python program to train a Gaussian Naïve Bayes classifier on the Breast Cancer dataset & evaluate accuracy.\n",
        "\n",
        "→"
      ],
      "metadata": {
        "id": "OQmj51yN880Y"
      }
    },
    {
      "cell_type": "code",
      "source": [
        "from sklearn.datasets import load_breast_cancer\n",
        "from sklearn.model_selection import train_test_split\n",
        "from sklearn.naive_bayes import GaussianNB\n",
        "from sklearn.metrics import accuracy_score\n",
        "\n",
        "data = load_breast_cancer()\n",
        "X, y = data.data, data.target\n",
        "X_train, X_test, y_train, y_test = train_test_split(X, y, test_size=0.2, random_state=42)\n",
        "gnb = GaussianNB()\n",
        "gnb.fit(X_train, y_train)\n",
        "\n",
        "y_pred = gnb.predict(X_test)\n",
        "print(\"Accuracy:\", accuracy_score(y_test, y_pred))"
      ],
      "metadata": {
        "colab": {
          "base_uri": "https://localhost:8080/"
        },
        "id": "cniuwT_89JX-",
        "outputId": "e69ec118-ca62-440c-dc3f-f683106cf463"
      },
      "execution_count": null,
      "outputs": [
        {
          "output_type": "stream",
          "name": "stdout",
          "text": [
            "Accuracy: 0.9736842105263158\n"
          ]
        }
      ]
    },
    {
      "cell_type": "markdown",
      "source": [
        "Q.26 Write a Python program to train a Multinomial Naïve Bayes classifier for text classification using the 20 Newsgroups dataset.\n",
        "\n",
        "→"
      ],
      "metadata": {
        "id": "1iLt1_iY9U8x"
      }
    },
    {
      "cell_type": "code",
      "source": [
        "from sklearn.datasets import fetch_20newsgroups\n",
        "from sklearn.feature_extraction.text import CountVectorizer\n",
        "from sklearn.naive_bayes import MultinomialNB\n",
        "from sklearn.model_selection import train_test_split\n",
        "from sklearn.metrics import accuracy_score\n",
        "\n",
        "newsgroups = fetch_20newsgroups(subset='all')\n",
        "X_train, X_test, y_train, y_test = train_test_split(newsgroups.data, newsgroups.target, test_size=0.2, random_state=42)\n",
        "vectorizer = CountVectorizer()\n",
        "X_train_vec = vectorizer.fit_transform(X_train)\n",
        "X_test_vec = vectorizer.transform(X_test)\n",
        "mnb = MultinomialNB()\n",
        "mnb.fit(X_train_vec, y_train)\n",
        "\n",
        "y_pred = mnb.predict(X_test_vec)\n",
        "print(\"Accuracy:\", accuracy_score(y_test, y_pred))"
      ],
      "metadata": {
        "colab": {
          "base_uri": "https://localhost:8080/"
        },
        "id": "AKPPbOLr9Z6l",
        "outputId": "e7f0b020-a619-456b-c598-335a5b8618f0"
      },
      "execution_count": null,
      "outputs": [
        {
          "output_type": "stream",
          "name": "stdout",
          "text": [
            "Accuracy: 0.8511936339522547\n"
          ]
        }
      ]
    },
    {
      "cell_type": "markdown",
      "source": [
        "Q.27 Write a Python program to train an SVM Classifier with different C values & compare the decision boundaries visually.\n",
        "\n",
        "→"
      ],
      "metadata": {
        "id": "vG8fjyJS9jJJ"
      }
    },
    {
      "cell_type": "code",
      "source": [
        "import numpy as np\n",
        "import matplotlib.pyplot as plt\n",
        "from sklearn.datasets import make_classification\n",
        "from sklearn.svm import SVC\n",
        "\n",
        "X, y = make_classification(n_features=2, n_redundant=0, n_informative=2,\n",
        "                           n_clusters_per_class=1, random_state=42)\n",
        "\n",
        "C_values = [0.1, 1, 10]\n",
        "plt.figure(figsize=(10, 3))\n",
        "\n",
        "for i, C in enumerate(C_values):\n",
        "    model = SVC(kernel='linear', C=C)\n",
        "    model.fit(X, y)\n",
        "    xx, yy = np.meshgrid(np.linspace(X[:, 0].min()-1, X[:, 0].max()+1, 200),\n",
        "                         np.linspace(X[:, 1].min()-1, X[:, 1].max()+1, 200))\n",
        "    Z = model.predict(np.c_[xx.ravel(), yy.ravel()])\n",
        "    Z = Z.reshape(xx.shape)\n",
        "\n",
        "    plt.subplot(1, 3, i+1)\n",
        "    plt.contourf(xx, yy, Z, alpha=0.3)\n",
        "    plt.scatter(X[:, 0], X[:, 1], c=y, edgecolors='k')\n",
        "    plt.title(f\"C={C}\")\n",
        "\n",
        "plt.show()"
      ],
      "metadata": {
        "colab": {
          "base_uri": "https://localhost:8080/",
          "height": 314
        },
        "id": "7yHgmn-K9ni-",
        "outputId": "daaa44b8-89c3-4721-8d48-699ce000c529"
      },
      "execution_count": null,
      "outputs": [
        {
          "output_type": "display_data",
          "data": {
            "text/plain": [
              "<Figure size 1000x300 with 3 Axes>"
            ],
            "image/png": "[encoded data removed]"
          },
          "metadata": {}
        }
      ]
    },
    {
      "cell_type": "markdown",
      "source": [
        "Q.28 Write a Python program to train a Bernoulli Naïve Bayes classifier for binary classification on a dataset with binary features.\n",
        "\n",
        "→"
      ],
      "metadata": {
        "id": "cr2g8GDo-FUi"
      }
    },
    {
      "cell_type": "code",
      "source": [
        "from sklearn.datasets import make_classification\n",
        "from sklearn.naive_bayes import BernoulliNB\n",
        "from sklearn.model_selection import train_test_split\n",
        "from sklearn.metrics import accuracy_score\n",
        "import numpy as np\n",
        "\n",
        "X, y = make_classification(n_features=10, n_informative=5, n_redundant=0, random_state=42)\n",
        "X_binary = np.where(X > 0, 1, 0)\n",
        "X_train, X_test, y_train, y_test = train_test_split(X_binary, y, test_size=0.2, random_state=42)\n",
        "bnb = BernoulliNB()\n",
        "bnb.fit(X_train, y_train)\n",
        "\n",
        "print(\"Accuracy:\", accuracy_score(y_test, bnb.predict(X_test)))"
      ],
      "metadata": {
        "colab": {
          "base_uri": "https://localhost:8080/"
        },
        "id": "oE7WUbAL-I55",
        "outputId": "39acd5e8-ebdc-44b4-f4de-ed4c71b63927"
      },
      "execution_count": null,
      "outputs": [
        {
          "output_type": "stream",
          "name": "stdout",
          "text": [
            "Accuracy: 0.85\n"
          ]
        }
      ]
    },
    {
      "cell_type": "markdown",
      "source": [
        "Q.29 Write a Python program to apply feature scaling before training an SVM model & compare results with unscaled data.\n",
        "\n",
        "→"
      ],
      "metadata": {
        "id": "FiUD-ehD-OWx"
      }
    },
    {
      "cell_type": "code",
      "source": [
        "from sklearn.preprocessing import StandardScaler\n",
        "from sklearn.svm import SVC\n",
        "from sklearn.metrics import accuracy_score\n",
        "from sklearn.model_selection import train_test_split\n",
        "from sklearn.datasets import load_wine\n",
        "\n",
        "data = load_wine()\n",
        "X, y = data.data, data.target\n",
        "X_train, X_test, y_train, y_test = train_test_split(X, y, test_size=0.2, random_state=42)\n",
        "model = SVC()\n",
        "model.fit(X_train, y_train)\n",
        "print(\"Without scaling accuracy:\", accuracy_score(y_test, model.predict(X_test)))\n",
        "\n",
        "scaler = StandardScaler()\n",
        "X_train_scaled = scaler.fit_transform(X_train)\n",
        "X_test_scaled = scaler.transform(X_test)\n",
        "\n",
        "model_scaled = SVC()\n",
        "model_scaled.fit(X_train_scaled, y_train)\n",
        "print(\"With scaling accuracy:\", accuracy_score(y_test, model_scaled.predict(X_test_scaled)))"
      ],
      "metadata": {
        "colab": {
          "base_uri": "https://localhost:8080/"
        },
        "id": "qg_qQxmX-Ruc",
        "outputId": "12769acf-8d81-48ad-bef7-2bde803aac62"
      },
      "execution_count": null,
      "outputs": [
        {
          "output_type": "stream",
          "name": "stdout",
          "text": [
            "Without scaling accuracy: 0.8055555555555556\n",
            "With scaling accuracy: 1.0\n"
          ]
        }
      ]
    },
    {
      "cell_type": "markdown",
      "source": [
        "Q.30 Write a Python program to train a Gaussian Naïve Bayes model & compare the predictions before & after Laplace Smoothing.\n",
        "\n",
        "→"
      ],
      "metadata": {
        "id": "f8wijRVW-ZMQ"
      }
    },
    {
      "cell_type": "code",
      "source": [
        "from sklearn.datasets import load_breast_cancer\n",
        "from sklearn.model_selection import train_test_split\n",
        "from sklearn.naive_bayes import GaussianNB\n",
        "from sklearn.metrics import accuracy_score\n",
        "import numpy as np\n",
        "\n",
        "X, y = load_breast_cancer(return_X_y=True)\n",
        "X_train, X_test, y_train, y_test = train_test_split(X, y, test_size=0.2, random_state=42)\n",
        "gnb = GaussianNB(var_smoothing=1e-9)\n",
        "gnb.fit(X_train, y_train)\n",
        "print(\"Without smoothing:\", accuracy_score(y_test, gnb.predict(X_test)))\n",
        "\n",
        "gnb_smooth = GaussianNB(var_smoothing=1e-2)\n",
        "gnb_smooth.fit(X_train, y_train)\n",
        "print(\"With smoothing:\", accuracy_score(y_test, gnb_smooth.predict(X_test)))"
      ],
      "metadata": {
        "colab": {
          "base_uri": "https://localhost:8080/"
        },
        "id": "CrVWfgS_-cv0",
        "outputId": "ee172978-fae9-49c5-8da7-67d7a12be28b"
      },
      "execution_count": null,
      "outputs": [
        {
          "output_type": "stream",
          "name": "stdout",
          "text": [
            "Without smoothing: 0.9736842105263158\n",
            "With smoothing: 0.9473684210526315\n"
          ]
        }
      ]
    },
    {
      "cell_type": "markdown",
      "source": [
        "Q.31 Write a Python program to train an SVM Classifier & use GridSearchCV to tune the hyperparameters (C, gamma, kernel).\n",
        "\n",
        "→"
      ],
      "metadata": {
        "id": "aAozb-1I-h5h"
      }
    },
    {
      "cell_type": "code",
      "source": [
        "from sklearn.model_selection import GridSearchCV\n",
        "from sklearn.svm import SVC\n",
        "from sklearn.datasets import load_iris\n",
        "\n",
        "X, y = load_iris(return_X_y=True)\n",
        "param_grid = {\n",
        "    'C': [0.1, 1, 10],\n",
        "    'gamma': [0.1, 0.01],\n",
        "    'kernel': ['linear', 'rbf']\n",
        "}\n",
        "grid = GridSearchCV(SVC(), param_grid, cv=5)\n",
        "grid.fit(X, y)\n",
        "\n",
        "print(\"Best parameters:\", grid.best_params_)\n",
        "print(\"Best score:\", grid.best_score_)"
      ],
      "metadata": {
        "colab": {
          "base_uri": "https://localhost:8080/"
        },
        "id": "QpNuBhlT-nLp",
        "outputId": "73eb149a-0339-4dd1-efae-01ac05801d36"
      },
      "execution_count": null,
      "outputs": [
        {
          "output_type": "stream",
          "name": "stdout",
          "text": [
            "Best parameters: {'C': 1, 'gamma': 0.1, 'kernel': 'linear'}\n",
            "Best score: 0.9800000000000001\n"
          ]
        }
      ]
    },
    {
      "cell_type": "markdown",
      "source": [
        "Q.32 Write a Python program to train an SVM Classifier on an imbalanced dataset & apply class weighting & check it improve accuracy.\n",
        "\n",
        "→"
      ],
      "metadata": {
        "id": "wEx4fbvv-rpR"
      }
    },
    {
      "cell_type": "code",
      "source": [
        "from sklearn.datasets import make_classification\n",
        "from sklearn.svm import SVC\n",
        "from sklearn.model_selection import train_test_split\n",
        "from sklearn.metrics import accuracy_score\n",
        "from collections import Counter\n",
        "\n",
        "X, y = make_classification(n_classes=2, class_sep=2, weights=[0.9, 0.1],\n",
        "                           n_informative=3, n_redundant=0, flip_y=0,\n",
        "                           n_features=5, n_clusters_per_class=1, random_state=42)\n",
        "\n",
        "print(\"Class distribution:\", Counter(y))\n",
        "\n",
        "X_train, X_test, y_train, y_test = train_test_split(X, y, test_size=0.2, random_state=42)\n",
        "model = SVC()\n",
        "model.fit(X_train, y_train)\n",
        "print(\"Without weighting:\", accuracy_score(y_test, model.predict(X_test)))\n",
        "\n",
        "model_weighted = SVC(class_weight='balanced')\n",
        "model_weighted.fit(X_train, y_train)\n",
        "print(\"With weighting:\", accuracy_score(y_test, model_weighted.predict(X_test)))"
      ],
      "metadata": {
        "colab": {
          "base_uri": "https://localhost:8080/"
        },
        "id": "pGAT-0-X-vB-",
        "outputId": "178ca3f4-d155-4d5b-8caf-9b4f18712bde"
      },
      "execution_count": null,
      "outputs": [
        {
          "output_type": "stream",
          "name": "stdout",
          "text": [
            "Class distribution: Counter({np.int64(0): 90, np.int64(1): 10})\n",
            "Without weighting: 1.0\n",
            "With weighting: 1.0\n"
          ]
        }
      ]
    },
    {
      "cell_type": "markdown",
      "source": [
        "Q.33 Write a Python program to implement a Naïve Bayes classifier for spam detection using email data.\n",
        "\n",
        "→"
      ],
      "metadata": {
        "id": "vqCQ1Lwo-1tR"
      }
    },
    {
      "cell_type": "code",
      "source": [
        "from sklearn.model_selection import train_test_split\n",
        "from sklearn.feature_extraction.text import CountVectorizer\n",
        "from sklearn.naive_bayes import MultinomialNB\n",
        "from sklearn.metrics import accuracy_score\n",
        "import pandas as pd\n",
        "\n",
        "data = pd.DataFrame({\n",
        "    'text': [\n",
        "        'Free money now', 'Call me now', 'Limited time offer',\n",
        "        'Hey, how are you?', 'Let’s meet tomorrow', 'Win a free trip'\n",
        "    ],\n",
        "    'label': [1, 1, 1, 0, 0, 1]\n",
        "})\n",
        "X_train, X_test, y_train, y_test = train_test_split(data['text'], data['label'], test_size=0.3, random_state=42)\n",
        "vectorizer = CountVectorizer()\n",
        "X_train_vec = vectorizer.fit_transform(X_train)\n",
        "X_test_vec = vectorizer.transform(X_test)\n",
        "\n",
        "model = MultinomialNB()\n",
        "model.fit(X_train_vec, y_train)\n",
        "print(\"Spam Detection Accuracy:\", accuracy_score(y_test, model.predict(X_test_vec)))"
      ],
      "metadata": {
        "colab": {
          "base_uri": "https://localhost:8080/"
        },
        "id": "IznyXlXe-7ry",
        "outputId": "568e9325-bde9-4a3b-ca9a-2a90bded7c97"
      },
      "execution_count": null,
      "outputs": [
        {
          "output_type": "stream",
          "name": "stdout",
          "text": [
            "Spam Detection Accuracy: 0.5\n"
          ]
        }
      ]
    },
    {
      "cell_type": "markdown",
      "source": [
        "Q.34 Write a Python program to train an SVM Classifier & a Naïve Bayes Classifier on the same dataset & compare their accuracy.\n",
        "\n",
        "→"
      ],
      "metadata": {
        "id": "GuObzTYz_C3o"
      }
    },
    {
      "cell_type": "code",
      "source": [
        "from sklearn.datasets import load_wine\n",
        "from sklearn.model_selection import train_test_split\n",
        "from sklearn.metrics import accuracy_score\n",
        "from sklearn.svm import SVC\n",
        "from sklearn.naive_bayes import GaussianNB\n",
        "\n",
        "X, y = load_wine(return_X_y=True)\n",
        "X_train, X_test, y_train, y_test = train_test_split(X, y, test_size=0.2, random_state=42)\n",
        "svm_model = SVC()\n",
        "svm_model.fit(X_train, y_train)\n",
        "acc_svm = accuracy_score(y_test, svm_model.predict(X_test))\n",
        "nb_model = GaussianNB()\n",
        "nb_model.fit(X_train, y_train)\n",
        "acc_nb = accuracy_score(y_test, nb_model.predict(X_test))\n",
        "\n",
        "print(\"SVM Accuracy:\", acc_svm)\n",
        "print(\"Naïve Bayes Accuracy:\", acc_nb)"
      ],
      "metadata": {
        "colab": {
          "base_uri": "https://localhost:8080/"
        },
        "id": "Dunr7Rig_GfP",
        "outputId": "98b334ea-177e-4be6-864c-e72d2f232204"
      },
      "execution_count": null,
      "outputs": [
        {
          "output_type": "stream",
          "name": "stdout",
          "text": [
            "SVM Accuracy: 0.8055555555555556\n",
            "Naïve Bayes Accuracy: 1.0\n"
          ]
        }
      ]
    },
    {
      "cell_type": "markdown",
      "source": [
        "Q.35  Write a Python program to perform feature selection before training a Naïve Bayes classifier & compare results.\n",
        "\n",
        "→"
      ],
      "metadata": {
        "id": "J6OhiO4d_LNx"
      }
    },
    {
      "cell_type": "code",
      "source": [
        "from sklearn.feature_selection import SelectKBest, f_classif\n",
        "from sklearn.naive_bayes import GaussianNB\n",
        "from sklearn.datasets import load_breast_cancer\n",
        "from sklearn.model_selection import train_test_split\n",
        "from sklearn.metrics import accuracy_score\n",
        "\n",
        "X, y = load_breast_cancer(return_X_y=True)\n",
        "selector = SelectKBest(score_func=f_classif, k=10)\n",
        "X_new = selector.fit_transform(X, y)\n",
        "X_train, X_test, y_train, y_test = train_test_split(X_new, y, test_size=0.2, random_state=42)\n",
        "model = GaussianNB()\n",
        "model.fit(X_train, y_train)\n",
        "\n",
        "print(\"Accuracy after Feature Selection:\", accuracy_score(y_test, model.predict(X_test)))"
      ],
      "metadata": {
        "colab": {
          "base_uri": "https://localhost:8080/"
        },
        "id": "Cc3Epa-i_OQc",
        "outputId": "593498ce-5539-42d4-951e-381412546b0c"
      },
      "execution_count": null,
      "outputs": [
        {
          "output_type": "stream",
          "name": "stdout",
          "text": [
            "Accuracy after Feature Selection: 0.9736842105263158\n"
          ]
        }
      ]
    },
    {
      "cell_type": "markdown",
      "source": [
        "Q.36 Write a Python program to train an SVM Classifier using One-vs-Rest (OvR) & One-vs-One (OvO) strategies on the Wine dataset & compare their accuracy.\n",
        "\n",
        "→"
      ],
      "metadata": {
        "id": "L4CHqvbf_bl7"
      }
    },
    {
      "cell_type": "code",
      "source": [
        "from sklearn.datasets import load_wine\n",
        "from sklearn.model_selection import train_test_split\n",
        "from sklearn.svm import SVC\n",
        "from sklearn.metrics import accuracy_score\n",
        "\n",
        "X, y = load_wine(return_X_y=True)\n",
        "X_train, X_test, y_train, y_test = train_test_split(X, y, test_size=0.2, random_state=42)\n",
        "ovr_model = SVC(decision_function_shape='ovr')\n",
        "ovr_model.fit(X_train, y_train)\n",
        "acc_ovr = accuracy_score(y_test, ovr_model.predict(X_test))\n",
        "ovo_model = SVC(decision_function_shape='ovo')\n",
        "ovo_model.fit(X_train, y_train)\n",
        "acc_ovo = accuracy_score(y_test, ovo_model.predict(X_test))\n",
        "\n",
        "print(\"OvR Accuracy:\", acc_ovr)\n",
        "print(\"OvO Accuracy:\", acc_ovo)"
      ],
      "metadata": {
        "colab": {
          "base_uri": "https://localhost:8080/"
        },
        "id": "5h0qUM30_fy0",
        "outputId": "f41daed1-2917-404c-fbe1-1888126736c9"
      },
      "execution_count": null,
      "outputs": [
        {
          "output_type": "stream",
          "name": "stdout",
          "text": [
            "OvR Accuracy: 0.8055555555555556\n",
            "OvO Accuracy: 0.8055555555555556\n"
          ]
        }
      ]
    },
    {
      "cell_type": "markdown",
      "source": [
        "Q.37 Write a Python program to train an SVM Classifier using Linear, Polynomial &RBF kernels on the Breast Cancer dataset & compare their accuracy.\n",
        "\n",
        "→"
      ],
      "metadata": {
        "id": "_BQNiZlu_mmp"
      }
    },
    {
      "cell_type": "code",
      "source": [
        "from sklearn.datasets import load_breast_cancer\n",
        "from sklearn.model_selection import train_test_split\n",
        "from sklearn.svm import SVC\n",
        "from sklearn.metrics import accuracy_score\n",
        "\n",
        "X, y = load_breast_cancer(return_X_y=True)\n",
        "X_train, X_test, y_train, y_test = train_test_split(X, y, test_size=0.2, random_state=42)\n",
        "\n",
        "kernels = ['linear', 'poly', 'rbf']\n",
        "for k in kernels:\n",
        "    model = SVC(kernel=k)\n",
        "    model.fit(X_train, y_train)\n",
        "    print(f\"{k} kernel accuracy:\", accuracy_score(y_test, model.predict(X_test)))"
      ],
      "metadata": {
        "colab": {
          "base_uri": "https://localhost:8080/"
        },
        "id": "CINxVmyB_rrN",
        "outputId": "1bfbe282-4a4c-4083-bbba-0e894204fcac"
      },
      "execution_count": null,
      "outputs": [
        {
          "output_type": "stream",
          "name": "stdout",
          "text": [
            "linear kernel accuracy: 0.956140350877193\n",
            "poly kernel accuracy: 0.9473684210526315\n",
            "rbf kernel accuracy: 0.9473684210526315\n"
          ]
        }
      ]
    },
    {
      "cell_type": "markdown",
      "source": [
        "Q.38  Write a Python program to train an SVM Classifier using Stratified K-Fold Cross-Validation & compute the average accuracy.\n",
        "\n",
        "→"
      ],
      "metadata": {
        "id": "3We3FbrE_vjU"
      }
    },
    {
      "cell_type": "code",
      "source": [
        "from sklearn.datasets import load_iris\n",
        "from sklearn.model_selection import StratifiedKFold, cross_val_score\n",
        "from sklearn.svm import SVC\n",
        "\n",
        "X, y = load_iris(return_X_y=True)\n",
        "skf = StratifiedKFold(n_splits=5, shuffle=True, random_state=42)\n",
        "model = SVC(kernel='linear')\n",
        "\n",
        "scores = cross_val_score(model, X, y, cv=skf)\n",
        "print(\"Average Accuracy:\", scores.mean())"
      ],
      "metadata": {
        "colab": {
          "base_uri": "https://localhost:8080/"
        },
        "id": "tq6-Yqb9_y1o",
        "outputId": "0c3e7a80-8366-4cd6-dd96-174aa58f4a3e"
      },
      "execution_count": null,
      "outputs": [
        {
          "output_type": "stream",
          "name": "stdout",
          "text": [
            "Average Accuracy: 0.9866666666666667\n"
          ]
        }
      ]
    },
    {
      "cell_type": "markdown",
      "source": [
        "Q.39 Write a Python program to train a Naïve Bayes classifier using different prior probabilities & compare performance.\n",
        "\n",
        "→"
      ],
      "metadata": {
        "id": "Le7FNK32_10B"
      }
    },
    {
      "cell_type": "code",
      "source": [
        "from sklearn.datasets import load_breast_cancer\n",
        "from sklearn.model_selection import train_test_split\n",
        "from sklearn.naive_bayes import GaussianNB\n",
        "from sklearn.metrics import accuracy_score\n",
        "\n",
        "X, y = load_breast_cancer(return_X_y=True)\n",
        "X_train, X_test, y_train, y_test = train_test_split(X, y, test_size=0.2, random_state=42)\n",
        "\n",
        "priors_list = [[0.6, 0.4], [0.5, 0.5]]\n",
        "for priors in priors_list:\n",
        "    model = GaussianNB(priors=priors)\n",
        "    model.fit(X_train, y_train)\n",
        "    print(f\"Priors {priors} Accuracy:\", accuracy_score(y_test, model.predict(X_test)))"
      ],
      "metadata": {
        "colab": {
          "base_uri": "https://localhost:8080/"
        },
        "id": "wVYr-XwG_4va",
        "outputId": "19eae820-84eb-4add-c125-a21425197f6c"
      },
      "execution_count": null,
      "outputs": [
        {
          "output_type": "stream",
          "name": "stdout",
          "text": [
            "Priors [0.6, 0.4] Accuracy: 0.9736842105263158\n",
            "Priors [0.5, 0.5] Accuracy: 0.9736842105263158\n"
          ]
        }
      ]
    },
    {
      "cell_type": "markdown",
      "source": [
        "Q.40 Write a Python program to perform Recursive Feature Elimination (RFE) before training an SVM Classifier & compare accuracy.\n",
        "\n",
        "→"
      ],
      "metadata": {
        "id": "Jdz0nMfZ_7wK"
      }
    },
    {
      "cell_type": "code",
      "source": [
        "from sklearn.feature_selection import RFE\n",
        "from sklearn.svm import SVC\n",
        "from sklearn.datasets import load_wine\n",
        "from sklearn.model_selection import train_test_split\n",
        "from sklearn.metrics import accuracy_score\n",
        "\n",
        "X, y = load_wine(return_X_y=True)\n",
        "X_train, X_test, y_train, y_test = train_test_split(X, y, test_size=0.2, random_state=42)\n",
        "svm = SVC(kernel='linear')\n",
        "selector = RFE(svm, n_features_to_select=5)\n",
        "selector.fit(X_train, y_train)\n",
        "\n",
        "X_train_sel = selector.transform(X_train)\n",
        "X_test_sel = selector.transform(X_test)\n",
        "svm.fit(X_train_sel, y_train)\n",
        "print(\"Accuracy after RFE:\", accuracy_score(y_test, svm.predict(X_test_sel)))"
      ],
      "metadata": {
        "colab": {
          "base_uri": "https://localhost:8080/"
        },
        "id": "iqjdRjBEABBx",
        "outputId": "067633b4-d589-45ff-cf14-f5871723ec6c"
      },
      "execution_count": null,
      "outputs": [
        {
          "output_type": "stream",
          "name": "stdout",
          "text": [
            "Accuracy after RFE: 0.9722222222222222\n"
          ]
        }
      ]
    },
    {
      "cell_type": "markdown",
      "source": [
        "Q.41 Write a Python program to train an SVM Classifier & evaluate its performance using Precision, Recall & F1-Score instead of accuracy.\n",
        "\n",
        "→"
      ],
      "metadata": {
        "id": "1RHnIamMAFi6"
      }
    },
    {
      "cell_type": "code",
      "source": [
        "from sklearn.datasets import load_breast_cancer\n",
        "from sklearn.model_selection import train_test_split\n",
        "from sklearn.svm import SVC\n",
        "from sklearn.metrics import precision_score, recall_score, f1_score\n",
        "\n",
        "X, y = load_breast_cancer(return_X_y=True)\n",
        "X_train, X_test, y_train, y_test = train_test_split(X, y, test_size=0.2, random_state=42)\n",
        "model = SVC()\n",
        "model.fit(X_train, y_train)\n",
        "y_pred = model.predict(X_test)\n",
        "\n",
        "print(\"Precision:\", precision_score(y_test, y_pred))\n",
        "print(\"Recall:\", recall_score(y_test, y_pred))\n",
        "print(\"F1-Score:\", f1_score(y_test, y_pred))"
      ],
      "metadata": {
        "colab": {
          "base_uri": "https://localhost:8080/"
        },
        "id": "5dINjyTdAIv_",
        "outputId": "481afb66-37b8-4855-b9fa-6920ca90d5d1"
      },
      "execution_count": null,
      "outputs": [
        {
          "output_type": "stream",
          "name": "stdout",
          "text": [
            "Precision: 0.922077922077922\n",
            "Recall: 1.0\n",
            "F1-Score: 0.9594594594594594\n"
          ]
        }
      ]
    },
    {
      "cell_type": "markdown",
      "source": [
        "Q.42 Write a Python program to train a Naïve Bayes Classifier & evaluate its performance using Log Loss (Cross-Entropy Loss).\n",
        "\n",
        "→"
      ],
      "metadata": {
        "id": "1aDjzbDUAM1p"
      }
    },
    {
      "cell_type": "code",
      "source": [
        "from sklearn.datasets import load_breast_cancer\n",
        "from sklearn.model_selection import train_test_split\n",
        "from sklearn.naive_bayes import GaussianNB\n",
        "from sklearn.metrics import log_loss\n",
        "\n",
        "X, y = load_breast_cancer(return_X_y=True)\n",
        "X_train, X_test, y_train, y_test = train_test_split(X, y, test_size=0.2, random_state=42)\n",
        "model = GaussianNB()\n",
        "model.fit(X_train, y_train)\n",
        "y_prob = model.predict_proba(X_test)\n",
        "\n",
        "print(\"Log Loss:\", log_loss(y_test, y_prob))"
      ],
      "metadata": {
        "colab": {
          "base_uri": "https://localhost:8080/"
        },
        "id": "NLDdaJRIAQVJ",
        "outputId": "a357ca26-d531-47d2-b357-363f02c2a8ba"
      },
      "execution_count": null,
      "outputs": [
        {
          "output_type": "stream",
          "name": "stdout",
          "text": [
            "Log Loss: 0.2037342715214191\n"
          ]
        }
      ]
    },
    {
      "cell_type": "markdown",
      "source": [
        "Q.43 Write a Python program to train an SVM Classifier & visualize the Confusion Matrix using seaborn.\n",
        "\n",
        "→"
      ],
      "metadata": {
        "id": "CE6l_--sAULR"
      }
    },
    {
      "cell_type": "code",
      "source": [
        "import seaborn as sns\n",
        "import matplotlib.pyplot as plt\n",
        "from sklearn.datasets import load_iris\n",
        "from sklearn.model_selection import train_test_split\n",
        "from sklearn.svm import SVC\n",
        "from sklearn.metrics import confusion_matrix\n",
        "\n",
        "X, y = load_iris(return_X_y=True)\n",
        "X_train, X_test, y_train, y_test = train_test_split(X, y, test_size=0.2, random_state=42)\n",
        "model = SVC()\n",
        "model.fit(X_train, y_train)\n",
        "y_pred = model.predict(X_test)\n",
        "\n",
        "cm = confusion_matrix(y_test, y_pred)\n",
        "sns.heatmap(cm, annot=True, fmt='d', cmap='Blues')\n",
        "plt.xlabel(\"Predicted\")\n",
        "plt.ylabel(\"Actual\")\n",
        "plt.show()"
      ],
      "metadata": {
        "colab": {
          "base_uri": "https://localhost:8080/",
          "height": 449
        },
        "id": "0V9cmKzLAW64",
        "outputId": "cddb9706-4e4b-4161-e1fa-0f677db7f631"
      },
      "execution_count": null,
      "outputs": [
        {
          "output_type": "display_data",
          "data": {
            "text/plain": [
              "<Figure size 640x480 with 2 Axes>"
            ],
            "image/png": "[encoded data removed]"
          },
          "metadata": {}
        }
      ]
    },
    {
      "cell_type": "markdown",
      "source": [
        "Q.44 Write a Python program to train an SVM Regressor (SVR) & evaluate its performance using Mean Absolute Error (MAE) instead of MSE.\n",
        "\n",
        "→"
      ],
      "metadata": {
        "id": "yu8AdHQxAbDh"
      }
    },
    {
      "cell_type": "code",
      "source": [
        "from sklearn.datasets import fetch_california_housing\n",
        "from sklearn.model_selection import train_test_split\n",
        "from sklearn.svm import SVR\n",
        "from sklearn.metrics import mean_absolute_error\n",
        "\n",
        "X, y = fetch_california_housing(return_X_y=True)\n",
        "X_train, X_test, y_train, y_test = train_test_split(X, y, test_size=0.2, random_state=42)\n",
        "model = SVR()\n",
        "model.fit(X_train, y_train)\n",
        "y_pred = model.predict(X_test)\n",
        "\n",
        "print(\"Mean Absolute Error:\", mean_absolute_error(y_test, y_pred))"
      ],
      "metadata": {
        "colab": {
          "base_uri": "https://localhost:8080/"
        },
        "id": "IBQlrk6bAem6",
        "outputId": "ece3ea20-b8d7-467e-8f76-c73091f43f36"
      },
      "execution_count": null,
      "outputs": [
        {
          "output_type": "stream",
          "name": "stdout",
          "text": [
            "Mean Absolute Error: 0.8599506583445761\n"
          ]
        }
      ]
    },
    {
      "cell_type": "markdown",
      "source": [
        "Q.45 Write a Python program to train a Naïve Bayes classifier & evaluate its performance using the ROC-AUC score.\n",
        "\n",
        "→"
      ],
      "metadata": {
        "id": "TZmpwmRfAiQB"
      }
    },
    {
      "cell_type": "code",
      "source": [
        "from sklearn.datasets import load_breast_cancer\n",
        "from sklearn.model_selection import train_test_split\n",
        "from sklearn.naive_bayes import GaussianNB\n",
        "from sklearn.metrics import roc_auc_score\n",
        "\n",
        "X, y = load_breast_cancer(return_X_y=True)\n",
        "X_train, X_test, y_train, y_test = train_test_split(X, y, test_size=0.2, random_state=42)\n",
        "model = GaussianNB()\n",
        "model.fit(X_train, y_train)\n",
        "y_prob = model.predict_proba(X_test)[:, 1]\n",
        "\n",
        "print(\"ROC-AUC Score:\", roc_auc_score(y_test, y_prob))"
      ],
      "metadata": {
        "colab": {
          "base_uri": "https://localhost:8080/"
        },
        "id": "joYiCyWbAlfq",
        "outputId": "49fd0bec-fc3b-4059-98aa-fe8c64df4381"
      },
      "execution_count": null,
      "outputs": [
        {
          "output_type": "stream",
          "name": "stdout",
          "text": [
            "ROC-AUC Score: 0.9983622666229938\n"
          ]
        }
      ]
    },
    {
      "cell_type": "markdown",
      "source": [
        "Q.46 Write a Python program to train an SVM Classifier & visualize the Precision-Recall Curve.\n",
        "\n",
        "→"
      ],
      "metadata": {
        "id": "C2LfrMd_ApQ5"
      }
    },
    {
      "cell_type": "code",
      "source": [
        "import matplotlib.pyplot as plt\n",
        "from sklearn.datasets import load_breast_cancer\n",
        "from sklearn.model_selection import train_test_split\n",
        "from sklearn.svm import SVC\n",
        "from sklearn.metrics import precision_recall_curve\n",
        "\n",
        "X, y = load_breast_cancer(return_X_y=True)\n",
        "X_train, X_test, y_train, y_test = train_test_split(X, y, test_size=0.2, random_state=42)\n",
        "model = SVC(probability=True)\n",
        "model.fit(X_train, y_train)\n",
        "y_prob = model.predict_proba(X_test)[:, 1]\n",
        "\n",
        "precision, recall, _ = precision_recall_curve(y_test, y_prob)\n",
        "plt.plot(recall, precision)\n",
        "plt.xlabel(\"Recall\")\n",
        "plt.ylabel(\"Precision\")\n",
        "plt.title(\"Precision-Recall Curve\")\n",
        "plt.show()"
      ],
      "metadata": {
        "colab": {
          "base_uri": "https://localhost:8080/",
          "height": 472
        },
        "id": "65BQ7tgRA2Xj",
        "outputId": "35fb1169-1be2-46e6-8dce-5cc3409e63cd"
      },
      "execution_count": null,
      "outputs": [
        {
          "output_type": "display_data",
          "data": {
            "text/plain": [
              "<Figure size 640x480 with 1 Axes>"
            ],
            "image/png": "[encoded data removed]"
          },
          "metadata": {}
        }
      ]
    }
  ]
}